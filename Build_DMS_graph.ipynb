{
 "cells": [
  {
   "cell_type": "code",
   "execution_count": null,
   "metadata": {},
   "outputs": [],
   "source": [
    "########## Import ##################\n",
    "\n",
    "import numpy as np # numpy\n",
    "\n",
    "import matplotlib.pyplot as plt # plotting\n",
    "%matplotlib inline\n",
    "plt.rcParams['figure.figsize'] = (8, 8) # set default size of plots\n",
    "plt.rcParams.update({'font.size': 18}) # set default font size\n",
    "plt.rcParams['image.cmap']='hot' # set color map\n",
    "\n",
    "import networkx as nx # networkx\n",
    "\n",
    "######### Parameters ###############\n",
    "\n",
    "m=5\n",
    "k0=2\n",
    "N=100\n",
    "\n",
    "######### Code ######################\n",
    "\n",
    "G=nx.complete_graph(m) # initialize\n",
    "sample_from=list(range(m))*(m+k0) # initialize\n",
    "\n",
    "while max(list(nx.nodes(G)))<(N-1):\n",
    "    \n",
    "    # which nodes will we attach to ?\n",
    "    connect=set()\n",
    "    while len(connect)<m:\n",
    "        n=np.random.choice(sample_from)\n",
    "        connect.add(n)\n",
    "    connect=list(connect)\n",
    "    \n",
    "    # A 'new node list'  for use in next step\n",
    "    new_node=max(list(nx.nodes(G)))+1\n",
    "    new_node_list=[new_node]*m\n",
    "    \n",
    "    # Add the new edges\n",
    "    G.add_edges_from(zip(new_node_list,connect))\n",
    "    \n",
    "    # Update this\n",
    "    sample_from=sample_from+connect+[new_node]*(m+k0)"
   ]
  },
  {
   "cell_type": "code",
   "execution_count": null,
   "metadata": {},
   "outputs": [],
   "source": [
    "import matplotlib.pyplot as plt # plotting\n",
    "%matplotlib inline\n",
    "plt.rcParams['figure.figsize'] = (8, 8) # set default size of plots\n",
    "plt.rcParams.update({'font.size': 18}) # set default font size\n",
    "plt.rcParams['image.cmap']='hot' # set color map\n",
    "\n",
    "nx.draw(G)"
   ]
  },
  {
   "cell_type": "code",
   "execution_count": null,
   "metadata": {
    "collapsed": true
   },
   "outputs": [],
   "source": []
  }
 ],
 "metadata": {
  "kernelspec": {
   "display_name": "Python 3",
   "language": "python",
   "name": "python3"
  },
  "language_info": {
   "codemirror_mode": {
    "name": "ipython",
    "version": 3
   },
   "file_extension": ".py",
   "mimetype": "text/x-python",
   "name": "python",
   "nbconvert_exporter": "python",
   "pygments_lexer": "ipython3",
   "version": "3.5.4"
  }
 },
 "nbformat": 4,
 "nbformat_minor": 2
}
