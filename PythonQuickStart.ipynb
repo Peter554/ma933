{
 "cells": [
  {
   "cell_type": "markdown",
   "metadata": {},
   "source": [
    "# Python Quick Start"
   ]
  },
  {
   "cell_type": "markdown",
   "metadata": {},
   "source": [
    "## Intro"
   ]
  },
  {
   "cell_type": "markdown",
   "metadata": {},
   "source": [
    "**Python** is a very widely used coding language. Its main advantages are that it is open-source, easy to use and has a wealth of good documentation and packages available due to its extensive user community. Here is a quickstart notebook to show you some essentials. It is not intended to be fully comprehensive - just to provide enough to get going. (Also, we do not touch any of Pythons object oriented capabilities - one of the languages strongest points).   "
   ]
  },
  {
   "cell_type": "code",
   "execution_count": null,
   "metadata": {
    "collapsed": true
   },
   "outputs": [],
   "source": [
    "#Load some key packages\n",
    "#If you get an error look at the section on install  \n",
    "import numpy as np\n",
    "import matplotlib.pyplot as plt\n",
    "from scipy import linalg as la"
   ]
  },
  {
   "cell_type": "markdown",
   "metadata": {},
   "source": [
    "[**Install**. Core Python comes installed on many machines however some packages may be missing. To manage packages and their dependecies it is best to use a package manager such as pip or conda. I recommend installing Anaconda (https://www.anaconda.com/download/) which provides conda and all the key packages needed. Note also that there are two main versions of Python: Python 2 vs Python 3. The differences are not too important for us (Google if interested) - choose Python 3 if unsure.]\n",
    "\n",
    "**Running python**. There are two main ways to run python.\n",
    "\n",
    "1) Make a .py file. Then run on the command line e.g. 'python my_script.py'\n",
    "\n",
    "2) Run in a Jupyter .ipynb notebook. This is especially good for exploring and experimenting with ideas.\n",
    "\n",
    "**Helping yourself**. Python is very well documented. A quick Google is usually all that is needed to answer a question. For general (not specifically scientific) Python I highly recommend the book Think Python: How to Think Like a Computer Scientist, available free online at http://greenteapress.com/thinkpython/thinkpython.html. All the most useful packages are documented online. For example, suppose we are unsure how to use the function 'mean' from the Numpy package, which calculates the mean of a vector. Just Google 'Numpy mean' and you soon find the docs (e.g. https://docs.scipy.org/doc/numpy-1.13.0/reference/generated/numpy.mean.html) which descirbe the function and all the possible inputs and outputs. Also be aware that when using a function the command **shift-tab** can be used as a quick documentation lookup (**helpful!**)\n",
    "\n",
    "**Key Points:**\n",
    "\n",
    "- Be careful with **integer division** in Python 2\n",
    "- Pay attention to **indentation**\n",
    "- Python is **indexed from 0** so x[0] is the first element of vector x"
   ]
  },
  {
   "cell_type": "markdown",
   "metadata": {},
   "source": [
    "**Contents**\n",
    "\n",
    "- Variables\n",
    "- Functions\n",
    "- Lists\n",
    "- Conditions, Loops\n",
    "- Print formating\n",
    "- Files\n",
    "- Numpy (+Scipy)\n",
    "- Matplotlib\n",
    "- [Extra]"
   ]
  },
  {
   "cell_type": "markdown",
   "metadata": {},
   "source": [
    "## Variables"
   ]
  },
  {
   "cell_type": "markdown",
   "metadata": {},
   "source": [
    "Variable assignment is simple in Python. "
   ]
  },
  {
   "cell_type": "code",
   "execution_count": null,
   "metadata": {
    "collapsed": true
   },
   "outputs": [],
   "source": [
    "a=2\n",
    "b=3.2\n",
    "c='Eggs and Spam'"
   ]
  },
  {
   "cell_type": "markdown",
   "metadata": {},
   "source": [
    "The **datatype** is not usually defined explicitly. Python can get this from the context. Below we print the type of these variables using the functions **_print()_** and **_type()_**. Also notice the **comments** which in Python are precedded by a hash \\#."
   ]
  },
  {
   "cell_type": "code",
   "execution_count": null,
   "metadata": {
    "collapsed": true
   },
   "outputs": [],
   "source": [
    "print('a is of type:') #Use function print() \n",
    "print(type(a))         #Use function type()\n",
    "\n",
    "print('b is of type:')\n",
    "print(type(b))\n",
    "\n",
    "print('c is of type:')\n",
    "print(type(c))"
   ]
  },
  {
   "cell_type": "markdown",
   "metadata": {},
   "source": [
    "The types int **(Integer)**, float **(Float)** and str **(String)** are the most important types to know about."
   ]
  },
  {
   "cell_type": "markdown",
   "metadata": {},
   "source": [
    "**CAUTION!** Be careful with integer division (In Python 2)! For example:"
   ]
  },
  {
   "cell_type": "code",
   "execution_count": null,
   "metadata": {
    "collapsed": true
   },
   "outputs": [],
   "source": [
    "a=2\n",
    "b=3\n",
    "c=a/b\n",
    "\n",
    "print('a/b=')\n",
    "print(c)"
   ]
  },
  {
   "cell_type": "markdown",
   "metadata": {},
   "source": [
    "In Python 2 integer division gives the rather odd result 2/3=0. We can fix this by making *a* or *b* (or both) a float. A couple of solutions:"
   ]
  },
  {
   "cell_type": "code",
   "execution_count": null,
   "metadata": {
    "collapsed": true
   },
   "outputs": [],
   "source": [
    "#Option 1. Convert a to a float.\n",
    "a=float(a)\n",
    "c=a/b\n",
    "print(c)\n",
    "\n",
    "#Option 2. Redefine a including a decimal point.\n",
    "a=2.0\n",
    "c=a/b\n",
    "print(c)"
   ]
  },
  {
   "cell_type": "markdown",
   "metadata": {},
   "source": [
    "## Functions"
   ]
  },
  {
   "cell_type": "markdown",
   "metadata": {},
   "source": [
    "Defining **functions** is simple too. E.g."
   ]
  },
  {
   "cell_type": "code",
   "execution_count": null,
   "metadata": {
    "collapsed": true
   },
   "outputs": [],
   "source": [
    "def square(x): # x is the input\n",
    "    y=x*x      # Square input and store in y\n",
    "    return y   # Return y as the output  "
   ]
  },
  {
   "cell_type": "code",
   "execution_count": null,
   "metadata": {
    "collapsed": true
   },
   "outputs": [],
   "source": [
    "print(square(5)) #Use function square()"
   ]
  },
  {
   "cell_type": "markdown",
   "metadata": {},
   "source": [
    "One key thing to notice here is the **indentation**. **CAUTION!** Indentation is critical in Python. It is not merely for human readability. Incorrect indentation will result in errors and code that does not run! (A good text editor often makes the coding much easier) E.g."
   ]
  },
  {
   "cell_type": "code",
   "execution_count": null,
   "metadata": {
    "collapsed": true
   },
   "outputs": [],
   "source": [
    "def square_bad(x): #Indentation error\n",
    "y=x*x\n",
    "return y"
   ]
  },
  {
   "cell_type": "markdown",
   "metadata": {},
   "source": [
    "We may also include a **doc-string** as follows. When using the function we can then press **shift+tab** to show the doc-string. It is advisable to keep code well documented. "
   ]
  },
  {
   "cell_type": "code",
   "execution_count": null,
   "metadata": {
    "collapsed": true
   },
   "outputs": [],
   "source": [
    "def square(x): # x is the input\n",
    "    '''Square the input''' # A docstring. When using the function use shift+tab to display this.\n",
    "    y=x*x      # Square input and store in y\n",
    "    return y   # Return y as the output     "
   ]
  },
  {
   "cell_type": "markdown",
   "metadata": {},
   "source": [
    "Now view the doc-string by placing your cursor inside the brackets and pressing shift+tab:"
   ]
  },
  {
   "cell_type": "code",
   "execution_count": null,
   "metadata": {
    "collapsed": true
   },
   "outputs": [],
   "source": [
    "square(5) #place your cursor inside the brackets then press shift+tab"
   ]
  },
  {
   "cell_type": "markdown",
   "metadata": {},
   "source": [
    "We may define functions with multiple inputs and outputs. "
   ]
  },
  {
   "cell_type": "code",
   "execution_count": null,
   "metadata": {
    "collapsed": true
   },
   "outputs": [],
   "source": [
    "def multi(x,y,z):\n",
    "    a=x+y\n",
    "    b=y+z\n",
    "    return a,b #Technically we return a 'tuple'. Google or see 'Extra'."
   ]
  },
  {
   "cell_type": "code",
   "execution_count": null,
   "metadata": {
    "collapsed": true
   },
   "outputs": [],
   "source": [
    "a,b=multi(5,8,2) #Use function multi()\n",
    "\n",
    "print('1st output')\n",
    "print(a)\n",
    "print('2nd output')\n",
    "print(b)"
   ]
  },
  {
   "cell_type": "markdown",
   "metadata": {},
   "source": [
    "## Lists"
   ]
  },
  {
   "cell_type": "markdown",
   "metadata": {},
   "source": [
    "A **list** is one of Pythons most important built in **data structures**. Elements do not need to be of the same type. Lists use square brackets"
   ]
  },
  {
   "cell_type": "code",
   "execution_count": null,
   "metadata": {
    "collapsed": true
   },
   "outputs": [],
   "source": [
    "a=[2.8,4,'chips'] # Make a list. Note square brackets.\n",
    "\n",
    "print(a)\n",
    "print(type(a))"
   ]
  },
  {
   "cell_type": "markdown",
   "metadata": {},
   "source": [
    "The length of the list may be found using the function **_len()_**. "
   ]
  },
  {
   "cell_type": "code",
   "execution_count": null,
   "metadata": {
    "collapsed": true
   },
   "outputs": [],
   "source": [
    "print('Length:')\n",
    "print(len(a))"
   ]
  },
  {
   "cell_type": "markdown",
   "metadata": {},
   "source": [
    "We can obtain an element of the list by using the index. **CAUTION!**. Python is indexed from 0."
   ]
  },
  {
   "cell_type": "code",
   "execution_count": null,
   "metadata": {
    "collapsed": true
   },
   "outputs": [],
   "source": [
    "print('Elements:')\n",
    "print(a[0])\n",
    "print(a[1])\n",
    "print(a[2])"
   ]
  },
  {
   "cell_type": "code",
   "execution_count": null,
   "metadata": {
    "collapsed": true
   },
   "outputs": [],
   "source": [
    "print(a[3]) #Error. Python is indexed from 0."
   ]
  },
  {
   "cell_type": "markdown",
   "metadata": {},
   "source": [
    "Lists are **mutable** meaning we can re-assign elements. We can also append elements using the method **_append_**."
   ]
  },
  {
   "cell_type": "code",
   "execution_count": null,
   "metadata": {
    "collapsed": true
   },
   "outputs": [],
   "source": [
    "#Re-assign \n",
    "a[0]=55\n",
    "print(a)\n",
    "\n",
    "#Append\n",
    "a.append('gravy')\n",
    "print(a)"
   ]
  },
  {
   "cell_type": "markdown",
   "metadata": {},
   "source": [
    "## Conditions, Loops"
   ]
  },
  {
   "cell_type": "markdown",
   "metadata": {},
   "source": [
    "Some basic conditions:"
   ]
  },
  {
   "cell_type": "code",
   "execution_count": null,
   "metadata": {
    "collapsed": true
   },
   "outputs": [],
   "source": [
    "print('2+2==4')\n",
    "print(2+2==4) #equal\n",
    "\n",
    "print('2+2==5')\n",
    "print(2+2==5)\n",
    "\n",
    "print('2+2!=5')\n",
    "print(2+2!=5) #not equal\n",
    "\n",
    "print('4<7')\n",
    "print(4<7)"
   ]
  },
  {
   "cell_type": "markdown",
   "metadata": {},
   "source": [
    "We look briefly at the **if** and **for** structures."
   ]
  },
  {
   "cell_type": "code",
   "execution_count": null,
   "metadata": {
    "collapsed": true
   },
   "outputs": [],
   "source": [
    "if 1+1==2: # Note indent!\n",
    "    print('1+1==2')"
   ]
  },
  {
   "cell_type": "code",
   "execution_count": null,
   "metadata": {
    "collapsed": true
   },
   "outputs": [],
   "source": [
    "for j in range(5): # Note indent!\n",
    "    print(j)"
   ]
  },
  {
   "cell_type": "markdown",
   "metadata": {},
   "source": [
    "The function **_range()_** is useful and returns a list:"
   ]
  },
  {
   "cell_type": "code",
   "execution_count": null,
   "metadata": {
    "collapsed": true
   },
   "outputs": [],
   "source": [
    "a=range(5)\n",
    "\n",
    "print(a)\n",
    "print(type(a))"
   ]
  },
  {
   "cell_type": "markdown",
   "metadata": {},
   "source": [
    "A more complex example:"
   ]
  },
  {
   "cell_type": "code",
   "execution_count": null,
   "metadata": {
    "collapsed": true
   },
   "outputs": [],
   "source": [
    "for i in [0,2,4,6,8]:\n",
    "    \n",
    "    print('i=')\n",
    "    print(i)\n",
    "    \n",
    "    if i<5:\n",
    "        print('i less than 5')\n",
    "    elif 5<=i<=7:\n",
    "        print('i greater than or equal to 5 and less than or equal to 7')\n",
    "    else:\n",
    "        print('i greater than 7')"
   ]
  },
  {
   "cell_type": "markdown",
   "metadata": {},
   "source": [
    "## Print formating"
   ]
  },
  {
   "cell_type": "markdown",
   "metadata": {},
   "source": [
    "We may put variables into print statments using the **format** method (another approach is to use the format operator %):"
   ]
  },
  {
   "cell_type": "code",
   "execution_count": null,
   "metadata": {
    "collapsed": true
   },
   "outputs": [],
   "source": [
    "a=3.14\n",
    "my_string='a = {}'.format(a)\n",
    "\n",
    "print(my_string)\n",
    "print(type(my_string))"
   ]
  },
  {
   "cell_type": "markdown",
   "metadata": {},
   "source": [
    "Another example:"
   ]
  },
  {
   "cell_type": "code",
   "execution_count": null,
   "metadata": {
    "collapsed": true
   },
   "outputs": [],
   "source": [
    "x=2\n",
    "y=5\n",
    "print('x = {} and y = {}'.format(x,y))"
   ]
  },
  {
   "cell_type": "markdown",
   "metadata": {},
   "source": [
    "We can also specify more advanced formating options. I recommend a Google but as a mini example consider E.g.:"
   ]
  },
  {
   "cell_type": "code",
   "execution_count": null,
   "metadata": {
    "collapsed": true
   },
   "outputs": [],
   "source": [
    "pi=3.14159265359\n",
    "\n",
    "my_string='{:5.3f}'.format(pi) # 5 is total string length, 3 is precision, f means float\n",
    "\n",
    "print(my_string)"
   ]
  },
  {
   "cell_type": "markdown",
   "metadata": {},
   "source": [
    "If this isn't clear consider the following:"
   ]
  },
  {
   "cell_type": "code",
   "execution_count": null,
   "metadata": {
    "collapsed": true
   },
   "outputs": [],
   "source": [
    "my_string='{:10.3f}'.format(pi)\n",
    "\n",
    "length=len(my_string)\n",
    "print('my_string length = ')\n",
    "print(length)\n",
    "\n",
    "for i in range(length):\n",
    "    print(\"my_string element {} is '{}'\".format(i,my_string[i]))"
   ]
  },
  {
   "cell_type": "markdown",
   "metadata": {},
   "source": [
    "So *my_string* is a string of length 10, the first 5 elements of which are simply the empty character ' '. This control over white space may be useful e.g. when printing to a file so that columns of data are aligned."
   ]
  },
  {
   "cell_type": "markdown",
   "metadata": {},
   "source": [
    "## Files"
   ]
  },
  {
   "cell_type": "markdown",
   "metadata": {},
   "source": [
    "**Files** can be used as follows. There should be a file **output.txt** in your working directory (contents not important). **If not make one** (open a new file in any text editor and save-as output.txt):"
   ]
  },
  {
   "cell_type": "code",
   "execution_count": null,
   "metadata": {
    "collapsed": true
   },
   "outputs": [],
   "source": [
    "my_file=open('./output.txt','w') # 'w' means writing mode\n",
    "print(type(my_file))\n",
    "\n",
    "for x in [12.33,5.78,3.26]:\n",
    "    s='x = {} \\n'.format(x) #'\\n' is new line character!\n",
    "    my_file.write(s)\n",
    "    \n",
    "my_file.close() #Remember to close!"
   ]
  },
  {
   "cell_type": "markdown",
   "metadata": {},
   "source": [
    "Now view the contents of the file! Note the character **'\\n'** in the code above which indicates a new line (useful!)."
   ]
  },
  {
   "cell_type": "markdown",
   "metadata": {},
   "source": [
    "## Numpy (+Scipy)"
   ]
  },
  {
   "cell_type": "markdown",
   "metadata": {
    "collapsed": true
   },
   "source": [
    "**Numpy** is the package for scientific computing with Python. It allows us to define arrays and efficiently manipulate them. First import the package."
   ]
  },
  {
   "cell_type": "code",
   "execution_count": null,
   "metadata": {
    "collapsed": true
   },
   "outputs": [],
   "source": [
    "import numpy as np # np is an abbreviation we choose"
   ]
  },
  {
   "cell_type": "markdown",
   "metadata": {},
   "source": [
    "Now define a **vector** *v* "
   ]
  },
  {
   "cell_type": "code",
   "execution_count": null,
   "metadata": {
    "collapsed": true
   },
   "outputs": [],
   "source": [
    "v=np.array([4,2,6,8])\n",
    "\n",
    "print('Vector v = ')\n",
    "print(v)\n",
    "\n",
    "print('\\nType')\n",
    "print(type(v))\n",
    "\n",
    "print('\\nShape')\n",
    "print(np.shape(v)) # shape is useful!\n",
    "print(type(v.shape)) # Its a tuple. Google or see 'Extra'\n",
    "\n",
    "print('\\nElements')\n",
    "length=np.shape(v)[0]\n",
    "for i in range(length):\n",
    "    print('v[{}] = {}'.format(i,v[i]))"
   ]
  },
  {
   "cell_type": "markdown",
   "metadata": {},
   "source": [
    "And a **matrix** *M*"
   ]
  },
  {
   "cell_type": "code",
   "execution_count": null,
   "metadata": {
    "collapsed": true
   },
   "outputs": [],
   "source": [
    "M=np.array([[2,5,7],[6,1,8]])\n",
    "\n",
    "print('Matrix M = ')\n",
    "print(M)\n",
    "\n",
    "print('\\nType')\n",
    "print(type(M))\n",
    "\n",
    "print('\\nShape')\n",
    "print(np.shape(M))\n",
    "\n",
    "print('\\nElements')\n",
    "height=np.shape(M)[0]\n",
    "width=np.shape(M)[1]\n",
    "for i in range(height):\n",
    "    for j in range(width):\n",
    "        print('M[{},{}]={}'.format(i,j,M[i,j]))"
   ]
  },
  {
   "cell_type": "markdown",
   "metadata": {},
   "source": [
    "We may retrieve/assign array elements via their **index**: "
   ]
  },
  {
   "cell_type": "code",
   "execution_count": null,
   "metadata": {
    "collapsed": true
   },
   "outputs": [],
   "source": [
    "M=np.array([[2,5,7],[6,1,8]])\n",
    "print('M = ')\n",
    "print(M)\n",
    "\n",
    "print('\\nM[0,0] = ')\n",
    "print(M[0,0])\n",
    "\n",
    "print('\\nM[:,2] = ')\n",
    "print(M[:,2]) # ':' means all. In this case all rows.\n",
    "\n",
    "#assign\n",
    "print('\\nModify 3rd column (M[:,2])')\n",
    "M[:,2]=np.array([0,0])\n",
    "print('M = ')\n",
    "print(M)"
   ]
  },
  {
   "cell_type": "markdown",
   "metadata": {},
   "source": [
    "We may initialize an array of **zeros** or **ones**:"
   ]
  },
  {
   "cell_type": "code",
   "execution_count": null,
   "metadata": {
    "collapsed": true
   },
   "outputs": [],
   "source": [
    "A=np.zeros((3,3))\n",
    "print('An array of zeros')\n",
    "print(A)\n",
    "\n",
    "B=np.ones(7)\n",
    "print('\\nA vector of ones')\n",
    "print(B)"
   ]
  },
  {
   "cell_type": "markdown",
   "metadata": {},
   "source": [
    "Also useful are **linspace** and **arange**:"
   ]
  },
  {
   "cell_type": "code",
   "execution_count": null,
   "metadata": {
    "collapsed": true
   },
   "outputs": [],
   "source": [
    "x=np.linspace(0,1,11) #start,stop,num\n",
    "print('linspace')\n",
    "print(x)\n",
    "\n",
    "x=np.arange(0,1,0.3) #start,stop(not included),dx\n",
    "print('\\narange')\n",
    "print(x)"
   ]
  },
  {
   "cell_type": "markdown",
   "metadata": {},
   "source": [
    "**Random numbers** are easy to generate:"
   ]
  },
  {
   "cell_type": "code",
   "execution_count": null,
   "metadata": {
    "collapsed": true
   },
   "outputs": [],
   "source": [
    "np.random.seed(212) # seed random number generator\n",
    "\n",
    "x_uniform=np.random.rand() #rand() is uniform dist\n",
    "print('Random number from uniform dist')\n",
    "print(x_uniform)\n",
    "\n",
    "x_normal=np.random.randn() #randn() is standard normal\n",
    "print('\\nRandom number from normal dist')\n",
    "print(x_normal)\n",
    "\n",
    "print('\\nRandom array')\n",
    "rand_array=np.random.rand(2,2)\n",
    "print(rand_array)"
   ]
  },
  {
   "cell_type": "markdown",
   "metadata": {},
   "source": [
    "Floats may be **multiplied** with the \\* operator. The operator \\** provides exponentiation."
   ]
  },
  {
   "cell_type": "code",
   "execution_count": null,
   "metadata": {
    "collapsed": true
   },
   "outputs": [],
   "source": [
    "a=2\n",
    "print('2 x 3 = {}'.format(a*3))\n",
    "print('2 cubed = {}'.format(a**3))"
   ]
  },
  {
   "cell_type": "markdown",
   "metadata": {},
   "source": [
    "Arrays may be **multiplied elementwise** with the \\* operator. **Matrix multiplication** uses the function **np.dot()**."
   ]
  },
  {
   "cell_type": "code",
   "execution_count": null,
   "metadata": {
    "collapsed": true
   },
   "outputs": [],
   "source": [
    "A=np.array([[2,4],[6,8]])\n",
    "print('A = ')\n",
    "print(A)\n",
    "\n",
    "print('\\nElementwise multiplication (A*A)')\n",
    "B=A*A\n",
    "print(B)\n",
    "\n",
    "print('\\nMatrix multiplication (np.dot(A,A))')\n",
    "C=np.dot(A,A)\n",
    "print(C)"
   ]
  },
  {
   "cell_type": "markdown",
   "metadata": {},
   "source": [
    "Some more basic **linear algebra**:"
   ]
  },
  {
   "cell_type": "code",
   "execution_count": null,
   "metadata": {},
   "outputs": [],
   "source": [
    "A=np.array([[2,4],[6,8]])\n",
    "print('A = ')\n",
    "print(A)\n",
    "b=np.array([1,0])\n",
    "print('\\nb = ')\n",
    "print(b)\n",
    "\n",
    "print('\\nTranspose')\n",
    "print(A.T) #transpose\n",
    "\n",
    "print('\\nDet')\n",
    "print(np.linalg.det(A)) #determinant\n",
    "\n",
    "print('\\nInv')\n",
    "print(np.linalg.inv(A)) #inverse\n",
    "\n",
    "evals,evecs=np.linalg.eig(A) \n",
    "print('\\nEigenvals')\n",
    "print(evals)\n",
    "print('\\nEigenvecs (columns)') # columns\n",
    "print(evecs)\n",
    "\n",
    "print('\\nSolve Ax=b')\n",
    "x=np.linalg.solve(A,b) # solve Ax=b\n",
    "print(x)\n",
    "print('\\nCheck. Ax=')\n",
    "print(np.dot(A,x))\n"
   ]
  },
  {
   "cell_type": "markdown",
   "metadata": {},
   "source": [
    "The package **Scipy** also provides some of Pythons key scientific computing capabilities. For example, we may compute the matrix exponential:"
   ]
  },
  {
   "cell_type": "code",
   "execution_count": null,
   "metadata": {},
   "outputs": [],
   "source": [
    "from scipy import linalg as la\n",
    "\n",
    "print('Matrix exponential')\n",
    "expon=la.expm(A)\n",
    "print(expon)"
   ]
  },
  {
   "cell_type": "markdown",
   "metadata": {},
   "source": [
    "## Matplotlib"
   ]
  },
  {
   "cell_type": "markdown",
   "metadata": {},
   "source": [
    "**Matplotlib** provides the plotting package for Python. Here are two mini examples. For more info I recommend the notebook available at http://github.com/jrjohansson/scientific-python-lectures"
   ]
  },
  {
   "cell_type": "code",
   "execution_count": null,
   "metadata": {
    "collapsed": true
   },
   "outputs": [],
   "source": [
    "import matplotlib.pyplot as plt #plt is an abbreviation\n",
    "\n",
    "#Some magic to make plots appear inline\n",
    "%matplotlib inline \n",
    "\n",
    "plt.rcParams['figure.figsize'] = (10, 10) # set default size of plots\n",
    "plt.rcParams.update({'font.size': 18}) # set default font size"
   ]
  },
  {
   "cell_type": "code",
   "execution_count": null,
   "metadata": {
    "collapsed": true
   },
   "outputs": [],
   "source": [
    "x=np.linspace(0,10,500)\n",
    "y=x**2\n",
    "plt.plot(x,y,'r-',lw=3)\n",
    "\n",
    "plt.xlabel(r'$x$') # Use latex like this\n",
    "plt.ylabel(r'$y$')\n",
    "plt.title(r'$y=x^2$.')\n",
    "plt.xlim(0,10)\n",
    "plt.ylim(0,10**2)\n",
    "\n",
    "plt.savefig('./plot1.pdf')"
   ]
  },
  {
   "cell_type": "code",
   "execution_count": null,
   "metadata": {
    "collapsed": true
   },
   "outputs": [],
   "source": [
    "x=np.linspace(-2*np.pi,2*np.pi,500)\n",
    "y=np.sin(x)\n",
    "z=np.cos(x)\n",
    "plt.plot(x,y,'r-',lw=3,label=r'$\\sin(x)$') # Use latex like this\n",
    "plt.plot(x,z,'b--',lw=3,label=r'$\\cos(x)$')\n",
    "\n",
    "plt.legend(loc='upper left')\n",
    "plt.xlabel(r'$x$') \n",
    "plt.xlim(-2*np.pi,2*np.pi)\n",
    "plt.ylim(-1,1)\n",
    "\n",
    "plt.savefig('./plot2.pdf')"
   ]
  },
  {
   "cell_type": "markdown",
   "metadata": {},
   "source": [
    "## Extra"
   ]
  },
  {
   "cell_type": "markdown",
   "metadata": {},
   "source": [
    "A **tuple** is much like a list. An important difference is that tuples are not mutable. Tuples use normal brackets."
   ]
  },
  {
   "cell_type": "code",
   "execution_count": null,
   "metadata": {
    "collapsed": true
   },
   "outputs": [],
   "source": [
    "a=(2.8,4,'chips') #Make a tuple. Note normal brackets.\n",
    "print(a)\n",
    "print(type(a))"
   ]
  },
  {
   "cell_type": "code",
   "execution_count": null,
   "metadata": {
    "collapsed": true
   },
   "outputs": [],
   "source": [
    "print('Length:')\n",
    "print(len(a))\n",
    "\n",
    "print('Elements:')\n",
    "print(a[0])\n",
    "print(a[1])\n",
    "print(a[2])"
   ]
  },
  {
   "cell_type": "code",
   "execution_count": null,
   "metadata": {
    "collapsed": true,
    "scrolled": true
   },
   "outputs": [],
   "source": [
    "a[0]=55 #Error. Tuple not mutable!"
   ]
  },
  {
   "cell_type": "markdown",
   "metadata": {},
   "source": [
    "Technically functions return tuples (e.g. *multi()* from earlier):"
   ]
  },
  {
   "cell_type": "code",
   "execution_count": null,
   "metadata": {
    "collapsed": true
   },
   "outputs": [],
   "source": [
    "def multi(x,y,z):\n",
    "    a=x+y\n",
    "    b=y+z\n",
    "    return a,b\n",
    "\n",
    "out=multi(5,8,2) # out is a tuple\n",
    "print(type(out))\n",
    "print(out[0])\n",
    "print(out[1])"
   ]
  },
  {
   "cell_type": "markdown",
   "metadata": {},
   "source": [
    "A **dictionary** is a useful data structure that stores key-value pairs. Dictionaries use curly brackets."
   ]
  },
  {
   "cell_type": "code",
   "execution_count": null,
   "metadata": {
    "collapsed": true,
    "scrolled": true
   },
   "outputs": [],
   "source": [
    "my_dict={'height':180, 'weight':70, 'sex':'male'} #Make a dictionary\n",
    "print(my_dict)\n",
    "print(type(my_dict))"
   ]
  },
  {
   "cell_type": "markdown",
   "metadata": {},
   "source": [
    "We look up values using the associated key:"
   ]
  },
  {
   "cell_type": "code",
   "execution_count": null,
   "metadata": {
    "collapsed": true
   },
   "outputs": [],
   "source": [
    "print(my_dict['weight'])"
   ]
  },
  {
   "cell_type": "markdown",
   "metadata": {},
   "source": [
    "We may add new keys:"
   ]
  },
  {
   "cell_type": "code",
   "execution_count": null,
   "metadata": {
    "collapsed": true
   },
   "outputs": [],
   "source": [
    "my_dict['hair']='brown'\n",
    "print(my_dict)"
   ]
  },
  {
   "cell_type": "markdown",
   "metadata": {},
   "source": [
    "The package **pickle** provides a way to store more complex data structures. The method **dumps** converts an object to a (not human readable) string. The method **loads** converts this back."
   ]
  },
  {
   "cell_type": "code",
   "execution_count": null,
   "metadata": {
    "collapsed": true
   },
   "outputs": [],
   "source": [
    "my_dict={'height':180, 'weight':70, 'sex':'male'} #Make a dictionary\n",
    "print(my_dict) \n",
    "\n",
    "import pickle # load pickle package\n",
    "pickled_dict=pickle.dumps(my_dict)\n",
    "\n",
    "print('\\n')\n",
    "print(pickled_dict)\n",
    "print(type(pickled_dict))\n",
    "print('\\n')\n",
    "\n",
    "my_file=open('./output.txt','w') # 'w' means writing mode\n",
    "my_file.write(pickled_dict)  #Write to file\n",
    "my_file.close() #Remember to close!\n",
    "\n",
    "my_file=open('./output.txt','r') # 'r' means reading mode\n",
    "string_representation=my_file.read() #Read file\n",
    "loaded_dict=pickle.loads(string_representation) #Load back\n",
    "print(loaded_dict)\n",
    "print(type(loaded_dict))\n",
    "my_file.close() #Remember to close!"
   ]
  }
 ],
 "metadata": {
  "kernelspec": {
   "display_name": "Python 2",
   "language": "python",
   "name": "python2"
  },
  "language_info": {
   "codemirror_mode": {
    "name": "ipython",
    "version": 2
   },
   "file_extension": ".py",
   "mimetype": "text/x-python",
   "name": "python",
   "nbconvert_exporter": "python",
   "pygments_lexer": "ipython2",
   "version": "2.7.13"
  }
 },
 "nbformat": 4,
 "nbformat_minor": 2
}
