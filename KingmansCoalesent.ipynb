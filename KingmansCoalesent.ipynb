{
 "cells": [
  {
   "cell_type": "markdown",
   "metadata": {},
   "source": [
    "Let $N_t$ be the number of particles at time $t$.\n",
    "\n",
    "Then the **transition rates:**\n",
    "\n",
    "$g(n,n-1)={{n}\\choose{2}}$\n",
    "\n",
    "$g(n,n)=-g(n,n-1)$\n",
    "\n",
    "else $g(n,m)=0$\n",
    "\n",
    "The **generator** can be defined (see notes):\n",
    "\n",
    "$(Gf)(n)=\\sum_{m \\in S}{g(n,m)[f(m)-f(n)]}$"
   ]
  },
  {
   "cell_type": "markdown",
   "metadata": {},
   "source": [
    "Now **simulate** using fact that **waiting times** $W_n \\sim \\text{Exp}(\\lambda={n\\choose{2}})$ \n",
    "\n",
    "https://en.wikipedia.org/wiki/Exponential_distribution\n",
    "\n",
    "(The expected waiting time is $1/\\lambda$ also refered to as $\\beta$)"
   ]
  },
  {
   "cell_type": "code",
   "execution_count": null,
   "metadata": {
    "collapsed": true
   },
   "outputs": [],
   "source": [
    "import numpy as np\n",
    "import matplotlib.pyplot as plt\n",
    "%matplotlib inline\n",
    "\n",
    "plt.rcParams['figure.figsize'] = (12, 12) # set default size of plots\n",
    "plt.rcParams.update({'font.size': 18}) # set default font size"
   ]
  },
  {
   "cell_type": "markdown",
   "metadata": {},
   "source": [
    "We use the function comb from scipy to compute $n\\choose 2$ [here](https://docs.scipy.org/doc/scipy-0.19.1/reference/generated/scipy.misc.comb.html)"
   ]
  },
  {
   "cell_type": "code",
   "execution_count": null,
   "metadata": {
    "collapsed": true
   },
   "outputs": [],
   "source": [
    "from scipy.misc import comb"
   ]
  },
  {
   "cell_type": "code",
   "execution_count": null,
   "metadata": {
    "scrolled": true
   },
   "outputs": [],
   "source": [
    "#### number of particles at start ####\n",
    "L=50\n",
    "\n",
    "##### Simulate ####\n",
    "\n",
    "for n in range(L,1,-1): \n",
    "    \n",
    "    print('n = {}'.format(n)) \n",
    "\n",
    "    lmda=comb(n,2) # lambda\n",
    "    beta=1.0/lmda # beta\n",
    "    waitTime=np.random.exponential(scale=beta) # get a waiting time from exponential dist  \n",
    "    \n",
    "    print('Waiting time = {}'.format(waitTime))"
   ]
  },
  {
   "cell_type": "markdown",
   "metadata": {},
   "source": [
    "Lets add some **plotting!**"
   ]
  },
  {
   "cell_type": "code",
   "execution_count": null,
   "metadata": {},
   "outputs": [],
   "source": [
    "#### number of particles at start ####\n",
    "L=50\n",
    "\n",
    "##### Simulate and PLOT ####\n",
    "\n",
    "time=0.0 # initialize\n",
    "\n",
    "for n in range(L,1,-1):  \n",
    "\n",
    "    lmda=comb(n,2) # lambda\n",
    "    beta=1.0/lmda # beta\n",
    "    waitTime=np.random.exponential(scale=beta) # get a waiting time from exponential dist  \n",
    "\n",
    "    plt.plot([time,time+waitTime],[n,n],'r',lw=2) # plot a bit\n",
    "    \n",
    "    time+=waitTime # update time\n",
    "\n",
    "plt.plot([time,time+2*waitTime],[1,1],'r--') # also add this line\n",
    "    \n",
    "plt.title('Kingmans Coalesent for L = {}'.format(L))\n",
    "plt.xlabel('$t$')\n",
    "plt.ylabel('$N_t$')\n",
    "\n",
    "plt.yscale('linear') # linear y scale\n",
    "# plt.xscale('log') # change to log x scale"
   ]
  }
 ],
 "metadata": {
  "kernelspec": {
   "display_name": "Python 2",
   "language": "python",
   "name": "python2"
  },
  "language_info": {
   "codemirror_mode": {
    "name": "ipython",
    "version": 2
   },
   "file_extension": ".py",
   "mimetype": "text/x-python",
   "name": "python",
   "nbconvert_exporter": "python",
   "pygments_lexer": "ipython2",
   "version": "2.7.13"
  }
 },
 "nbformat": 4,
 "nbformat_minor": 2
}
