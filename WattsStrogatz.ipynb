{
 "cells": [
  {
   "cell_type": "markdown",
   "metadata": {},
   "source": [
    "**Just for fun!**"
   ]
  },
  {
   "cell_type": "code",
   "execution_count": null,
   "metadata": {},
   "outputs": [],
   "source": [
    "import numpy as np # numpy\n",
    "\n",
    "import matplotlib.pyplot as plt # plotting\n",
    "%matplotlib inline\n",
    "plt.rcParams['figure.figsize'] = (12, 12) # set default size of plots\n",
    "plt.rcParams.update({'font.size': 18}) # set default font size\n",
    "plt.rcParams['image.cmap']='hot' # set color map\n",
    "\n",
    "import networkx as nx # networkx\n",
    "\n",
    "import random # random numbers\n",
    "\n",
    "import graphUtils as gu # the utilities module on git. Abbreviate as gu\n",
    "\n",
    "# ignore me. If you get an error just comment out!\n",
    "%load_ext autoreload \n",
    "%autoreload 2"
   ]
  },
  {
   "cell_type": "code",
   "execution_count": null,
   "metadata": {},
   "outputs": [],
   "source": [
    "N=10\n",
    "k=4\n",
    "p=0.0\n",
    "G=nx.watts_strogatz_graph(N,k,p)\n",
    "nx.draw_circular(G)\n",
    "plt.title('N={} nodes connected to k={} nearest neighbours \\n edges rewired with prob p={}'.format(N,k,p))"
   ]
  },
  {
   "cell_type": "code",
   "execution_count": null,
   "metadata": {},
   "outputs": [],
   "source": [
    "N=100\n",
    "k=5\n",
    "\n",
    "p_list=[0.001,0.01,0.05,0.1,0.5,0.9]\n",
    "\n",
    "plt.figure()\n",
    "\n",
    "for i in range(6):\n",
    "    p=p_list[i]\n",
    "    G=nx.watts_strogatz_graph(N,k,p)\n",
    "    plt.subplot(3,2,i+1)\n",
    "    nx.draw_circular(G)\n",
    "    plt.title('p = {}'.format(p))\n"
   ]
  },
  {
   "cell_type": "code",
   "execution_count": null,
   "metadata": {},
   "outputs": [],
   "source": [
    "N=300\n",
    "k=4\n",
    "\n",
    "############\n",
    "\n",
    "p=0.0\n",
    "G=nx.watts_strogatz_graph(N,k,p)\n",
    "c0=nx.average_clustering(G)\n",
    "l0=nx.average_shortest_path_length(G)\n",
    "\n",
    "############\n",
    "\n",
    "reps=50\n",
    "\n",
    "p_list=np.logspace(-3,0,20)\n",
    "\n",
    "clust=[]\n",
    "pathLength=[]\n",
    "for p in p_list:\n",
    "    tmp_c=[]\n",
    "    tmp_l=[]\n",
    "    for r in range(reps):\n",
    "        G=nx.watts_strogatz_graph(N,k,p)\n",
    "        c=nx.average_clustering(G)\n",
    "        l=nx.average_shortest_path_length(G)\n",
    "        tmp_c.append(c)\n",
    "        tmp_l.append(l)\n",
    "    clust.append(np.mean(tmp_c)/float(c0))\n",
    "    pathLength.append(np.mean(tmp_l)/float(l0))\n",
    "\n",
    "plt.plot(p_list,clust,'bx',mew=3,ms=8,label='$C/C(0)$')\n",
    "plt.plot(p_list,pathLength,'rx',mew=3,ms=8,label='$L/L(0)$')\n",
    "        \n",
    "plt.xscale('log')\n",
    "plt.legend()\n",
    "plt.title('N={}, k={}'.format(N,k))"
   ]
  },
  {
   "cell_type": "code",
   "execution_count": null,
   "metadata": {},
   "outputs": [],
   "source": []
  },
  {
   "cell_type": "code",
   "execution_count": null,
   "metadata": {
    "collapsed": true
   },
   "outputs": [],
   "source": []
  }
 ],
 "metadata": {
  "kernelspec": {
   "display_name": "Python 2",
   "language": "python",
   "name": "python2"
  },
  "language_info": {
   "codemirror_mode": {
    "name": "ipython",
    "version": 2
   },
   "file_extension": ".py",
   "mimetype": "text/x-python",
   "name": "python",
   "nbconvert_exporter": "python",
   "pygments_lexer": "ipython2",
   "version": "2.7.13"
  }
 },
 "nbformat": 4,
 "nbformat_minor": 2
}
