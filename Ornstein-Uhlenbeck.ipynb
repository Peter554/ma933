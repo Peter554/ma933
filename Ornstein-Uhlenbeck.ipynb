{
 "cells": [
  {
   "cell_type": "markdown",
   "metadata": {},
   "source": [
    "# Ornstein-Uhlenbeck process"
   ]
  },
  {
   "cell_type": "markdown",
   "metadata": {},
   "source": [
    "The **Ornstein-Uhlenbeck** process $(X_t : t>0)$ may be defined in terms of a **generator**\n",
    "\n",
    "$(Lf)(x)=-\\alpha xf'(x) + \\frac{1}{2} \\sigma^2f''(x)$     \n",
    "$\\alpha, \\sigma^2 >0$\n",
    "\n",
    "Given a function $f(X_t)$ we can calculate the **expectation value** via\n",
    "\n",
    "$\\frac{d}{dt}E[f(X_t)]=E[(Lf)(X_t)]\\qquad$ (*)"
   ]
  },
  {
   "cell_type": "markdown",
   "metadata": {},
   "source": [
    " ----------- *__If interested__*  **(Relating generator to PDE, e.g. as in lectures Brownian motion generator and heat equation)** -----------\n",
    "\n",
    "**Look at the description on Wikipedia** https://en.wikipedia.org/wiki/Ornstein%E2%80%93Uhlenbeck_process\n",
    "\n",
    "The article cites the **Fokker-Plank** equation  (heat equation + extra term) as an equivalent description of the process. **How can we relate the two pictures?**\n",
    "\n",
    "Writing (*)  out explicitly we have\n",
    "\n",
    "$\\frac{d}{dt}\\int_{-\\infty}^{+\\infty}\\pi_t(x)f(x) dx=\\int_{-\\infty}^{+\\infty}-\\alpha x\\pi_t(x)f'(x)+\\frac{1}{2}\\sigma^2\\pi_t(x)f''(x)dx$\n",
    "\n",
    "**Integrate by parts** on the right hand side (boundary terms cancel as we choose/assume $\\pi_t(x), \\frac{\\partial \\pi_t(x)}{\\partial x}$ are zero at $\\pm \\infty$).\n",
    "\n",
    "First term\n",
    "\n",
    "$\\int_{-\\infty}^{+\\infty}{-\\alpha x\\pi_t(x)f'(x)}dx=[-\\alpha x\\pi_t(x)f(x)]_{-\\infty}^{+\\infty} - \\int_{-\\infty}^{+\\infty}{f(x)\\frac{\\partial}{\\partial x}(-\\alpha x\\pi_t(x))}dx=-\\int_{-\\infty}^{+\\infty}{f(x)\\frac{\\partial}{\\partial x}(-\\alpha x\\pi_t(x))dx}$\n",
    "\n",
    "Second term\n",
    "\n",
    "$\\int_{-\\infty}^{+\\infty}\\frac{1}{2}\\sigma^2\\pi_t(x)f''(x)dx=[\\frac{1}{2}\\sigma^2\\pi_t(x)f'(x)]_{-\\infty}^{+\\infty}-\\int_{-\\infty}^{+\\infty}f'(x)\\frac{\\partial}{\\partial x}(\\frac{1}{2}\\sigma^2\\pi_t(x))dx=-\\int_{-\\infty}^{+\\infty}f'(x)\\frac{\\partial}{\\partial x}(\\frac{1}{2}\\sigma^2\\pi_t(x))dx$\n",
    "\n",
    "$=-[f(x)\\frac{\\partial}{\\partial x}(\\frac{1}{2}\\sigma^2\\pi_t(x))]_{-\\infty}^{+\\infty} + \\int_{-\\infty}^{+\\infty}f(x)\\frac{\\partial^2}{\\partial x^2}(\\frac{1}{2}\\sigma^2\\pi_t(x))dx=\\int_{-\\infty}^{+\\infty}f(x)\\frac{\\partial^2}{\\partial x^2}(\\frac{1}{2}\\sigma^2\\pi_t(x))dx$\n",
    "\n",
    "So in summary\n",
    "\n",
    "$\\frac{d}{dt}\\int_{-\\infty}^{+\\infty}\\pi_t(x)f(x) dx=\\int_{-\\infty}^{+\\infty}{f(x)\\frac{\\partial}{\\partial x}(\\alpha x\\pi_t(x))dx} + \\int_{-\\infty}^{+\\infty}f(x)\\frac{\\partial^2}{\\partial x^2}(\\frac{1}{2}\\sigma^2\\pi_t(x))dx$\n",
    "\n",
    "We are free to choose any function $f(x)$ so choose $f(x)=\\delta(x-y)$, the Dirac-delta 'function'. Use the (defining) property of the delta function \n",
    "\n",
    "$\\int_{-\\infty}^{+\\infty}\\delta(x-a)g(x)dx=g(a) \\qquad \\forall \\text{ function } g(x)$\n",
    "\n",
    "*__So we end up with the final PDE (On wikipedia this is called the **Fokker-Plank** representation)__*\n",
    "\n",
    "$\\frac{\\partial \\pi_t(y)}{\\partial t}=\\alpha \\frac{\\partial}{\\partial y}(y\\pi_t(y))+\\frac{1}{2}\\sigma^2\\frac{\\partial^2}{\\partial y^2}\\pi_t(y)$\n",
    "\n",
    "If we use the generator for e.g. **Brownian motion** \n",
    "\n",
    "$(Lf)(x)= \\frac{1}{2} \\sigma^2f''(x)$     \n",
    "$\\sigma^2 >0$\n",
    "\n",
    "and follow similar working we obtain the **heat/diffusion equation** https://en.wikipedia.org/wiki/Heat_equation\n",
    "\n",
    "$\\frac{\\partial \\pi_t(y)}{\\partial t}=\\frac{1}{2}\\sigma^2\\frac{\\partial^2}{\\partial y^2}\\pi_t(y)$\n",
    "\n",
    "which has solution (taking $\\pi_0(y)=\\delta(y-x_0)$ i.e. $X_0=x_0$) \n",
    "\n",
    "$\\pi_t(y)=\\frac{1}{\\sqrt{2\\pi \\sigma^2 t}}\\exp{\\left(\\frac{-(y-x_0)^2}{2\\sigma^2 t}\\right)}$\n",
    "\n",
    "as stated in lectures (don't worry if you have no idea how to solve that)\n",
    "\n",
    "i.e. a Gaussian centered on $x_0$ with width (standard deviation) proportional to $\\sqrt{t}$ \n",
    "\n",
    "Physically this is the characteristic property of a **diffusive process**, where distance traveled is proportional to $\\sqrt{t}$ (contrast with a particle moving at uniform velocity distance proportional to $t$). \n",
    "\n",
    "----------------------------------------------------------------  *__End if interested__*  ----------------------------------------------------------------"
   ]
  },
  {
   "cell_type": "markdown",
   "metadata": {},
   "source": [
    "The **Ornstein–Uhlenbeck process** may also be described by a **stochastic differential equation**\n",
    "\n",
    "$dX_t=-\\alpha X_t dt + \\sigma dB_t$\n",
    "\n",
    "where $dB_t \\sim N(0,dt)$ \n",
    "\n",
    "i.e normally distriuted with zero mean and variance proportional to $dt$, so standard devation proportional to $\\sqrt{t}$.\n",
    "\n",
    "Using a simple finite difference approximation we have\n",
    "\n",
    "$ X_{t+\\Delta t}=X_t -\\alpha X_t \\Delta t+ \\sigma \\Delta B_t$\n",
    "\n",
    "where $\\Delta B_t \\sim N(0,\\Delta t)$\n",
    "\n",
    "**Lets simulate!**"
   ]
  },
  {
   "cell_type": "code",
   "execution_count": null,
   "metadata": {
    "collapsed": true
   },
   "outputs": [],
   "source": [
    "import numpy as np\n",
    "import matplotlib.pyplot as plt\n",
    "%matplotlib inline\n",
    "\n",
    "plt.rcParams['figure.figsize'] = (12, 12) # set default size of plots\n",
    "plt.rcParams.update({'font.size': 18}) # set default font size"
   ]
  },
  {
   "cell_type": "code",
   "execution_count": null,
   "metadata": {
    "collapsed": true
   },
   "outputs": [],
   "source": [
    "##### Parameter/setup ######\n",
    "\n",
    "alpha=0.2\n",
    "sigma=0.4\n",
    "x0=10.0 # initial condition\n",
    "\n",
    "tmaxish=40.0 #max time (ish)\n",
    "\n",
    "dt=0.01 # timestep\n",
    "\n",
    "np.random.seed(101) # for reproducability \n",
    "\n",
    "############################\n",
    "\n",
    "times=np.arange(0.0,tmaxish,dt) # vector of times\n",
    "length=np.shape(times)[0]\n",
    "\n",
    "x=np.zeros(length) # vector to store x values\n",
    "x[0]=x0\n",
    "\n",
    "B=np.random.randn(length-1)*np.sqrt(dt) # the gaussian noise\n",
    "\n",
    "for i in range(0,length-1): # simulate\n",
    "    x[i+1]=x[i]-alpha*x[i]*dt+sigma*B[i]"
   ]
  },
  {
   "cell_type": "code",
   "execution_count": null,
   "metadata": {},
   "outputs": [],
   "source": [
    "plt.plot(times,x,'r',lw=2)\n",
    "plt.xlabel('$t$')\n",
    "plt.ylabel('$X_t$')\n",
    "plt.title(r'Ornstein-Uhlenbeck process with $\\alpha$ = {}, $\\sigma$ = {}.'.format(alpha,sigma))"
   ]
  },
  {
   "cell_type": "code",
   "execution_count": null,
   "metadata": {
    "collapsed": true
   },
   "outputs": [],
   "source": []
  }
 ],
 "metadata": {
  "kernelspec": {
   "display_name": "Python 2",
   "language": "python",
   "name": "python2"
  },
  "language_info": {
   "codemirror_mode": {
    "name": "ipython",
    "version": 2
   },
   "file_extension": ".py",
   "mimetype": "text/x-python",
   "name": "python",
   "nbconvert_exporter": "python",
   "pygments_lexer": "ipython2",
   "version": "2.7.13"
  }
 },
 "nbformat": 4,
 "nbformat_minor": 2
}
