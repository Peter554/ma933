{
 "cells": [
  {
   "cell_type": "markdown",
   "metadata": {},
   "source": [
    "# Gershgorin disk theorem"
   ]
  },
  {
   "cell_type": "markdown",
   "metadata": {},
   "source": [
    "Given an NxN matrix $A$ the Gershgorin disk theorem states that all eigen-values lie in at least one Gershgorin disk. $D_i$ is a disk centered on $a_{i,i}$ with radius $R_i=\\sum_{j\\neq i}{a_{i,j}}$.  "
   ]
  },
  {
   "cell_type": "code",
   "execution_count": null,
   "metadata": {
    "collapsed": true
   },
   "outputs": [],
   "source": [
    "import numpy as np\n",
    "import matplotlib.pyplot as plt\n",
    "\n",
    "# Make plots appear inline\n",
    "%matplotlib inline \n",
    "\n",
    "plt.rcParams['figure.figsize'] = (12, 12) # set default size of plots\n",
    "plt.rcParams.update({'font.size': 18}) # set default font size"
   ]
  },
  {
   "cell_type": "code",
   "execution_count": null,
   "metadata": {
    "collapsed": true
   },
   "outputs": [],
   "source": [
    "def plot_circle(center,radius): # Function to plot a circle\n",
    "    x=np.linspace(-1,1,500)\n",
    "    x*=radius\n",
    "    x+=center\n",
    "    y=np.sqrt(radius**2-(x-center)**2)\n",
    "    plt.plot(x,y,'r-',lw=3)\n",
    "    plt.plot(x,-1*y,'r-',lw=3)"
   ]
  },
  {
   "cell_type": "markdown",
   "metadata": {},
   "source": [
    "Random walk on 4x4 ring (-1 evalue)"
   ]
  },
  {
   "cell_type": "code",
   "execution_count": null,
   "metadata": {},
   "outputs": [],
   "source": [
    "p=0.3\n",
    "q=0.7\n",
    "A=np.array([[0,p,0,q],[q,0,p,0],[0,q,0,p],[p,0,q,0]])\n",
    "print(A)\n",
    "\n",
    "centers=[]\n",
    "radii=[]\n",
    "\n",
    "N=A.shape[0]\n",
    "for i in range(N):\n",
    "    centers.append(A[i,i])\n",
    "    temp=0.0\n",
    "    for j in range(N):\n",
    "        if j!=i:\n",
    "            temp+=A[i,j]\n",
    "    radii.append(temp)\n",
    "\n",
    "evals,evecs=np.linalg.eig(A)"
   ]
  },
  {
   "cell_type": "code",
   "execution_count": null,
   "metadata": {},
   "outputs": [],
   "source": [
    "for i in range(N):\n",
    "    plot_circle(centers[i],radii[i]) # Plot disk i\n",
    "    plt.plot(np.real(evals[i]),np.imag(evals[i]),'kx',mew=3,ms=10) # Plot evalue i\n",
    "lim=1.1\n",
    "plt.xlim(-lim,lim)\n",
    "plt.ylim(-lim,lim)\n",
    "plt.grid()"
   ]
  },
  {
   "cell_type": "markdown",
   "metadata": {},
   "source": [
    "Random walk on 5x5 ring (no -1 evalue):"
   ]
  },
  {
   "cell_type": "code",
   "execution_count": null,
   "metadata": {},
   "outputs": [],
   "source": [
    "p=0.3\n",
    "q=0.7\n",
    "A=np.array([[0,p,0,0,q],[q,0,p,0,0],[0,q,0,p,0],[0,0,q,0,p],[p,0,0,q,0]])\n",
    "print(A)\n",
    "\n",
    "centers=[]\n",
    "radii=[]\n",
    "\n",
    "N=A.shape[0]\n",
    "for i in range(N):\n",
    "    centers.append(A[i,i])\n",
    "    temp=0.0\n",
    "    for j in range(N):\n",
    "        if j!=i:\n",
    "            temp+=A[i,j]\n",
    "    radii.append(temp)\n",
    "\n",
    "evals,evecs=np.linalg.eig(A)\n"
   ]
  },
  {
   "cell_type": "code",
   "execution_count": null,
   "metadata": {},
   "outputs": [],
   "source": [
    "for i in range(N):\n",
    "    plot_circle(centers[i],radii[i]) # plot disk i\n",
    "    plt.plot(np.real(evals[i]),np.imag(evals[i]),'kx',mew=3,ms=10) #plot evalue i\n",
    "lim=1.1\n",
    "plt.xlim(-lim,lim)\n",
    "plt.ylim(-lim,lim)\n",
    "plt.grid()"
   ]
  },
  {
   "cell_type": "markdown",
   "metadata": {},
   "source": [
    "Lazy random walk"
   ]
  },
  {
   "cell_type": "code",
   "execution_count": null,
   "metadata": {},
   "outputs": [],
   "source": [
    "eps=0.1\n",
    "p=0.3\n",
    "q=1-p-eps\n",
    "A=np.array([[eps,p,0,q],[q,eps,p,0],[0,q,eps,p],[p,0,q,eps]])\n",
    "print(A)\n",
    "\n",
    "centers=[]\n",
    "radii=[]\n",
    "\n",
    "N=A.shape[0]\n",
    "for i in range(N):\n",
    "    centers.append(A[i,i])\n",
    "    temp=0.0\n",
    "    for j in range(N):\n",
    "        if j!=i:\n",
    "            temp+=A[i,j]\n",
    "    radii.append(temp)\n",
    "\n",
    "evals,evecs=np.linalg.eig(A)\n"
   ]
  },
  {
   "cell_type": "code",
   "execution_count": null,
   "metadata": {},
   "outputs": [],
   "source": [
    "for i in range(N):\n",
    "    plot_circle(centers[i],radii[i]) # plot disk i\n",
    "    plt.plot(np.real(evals[i]),np.imag(evals[i]),'kx',mew=3,ms=10) #plot evalue i\n",
    "lim=1.1\n",
    "plt.xlim(-lim,lim)\n",
    "plt.ylim(-lim,lim)\n",
    "plt.grid()"
   ]
  },
  {
   "cell_type": "code",
   "execution_count": null,
   "metadata": {
    "collapsed": true
   },
   "outputs": [],
   "source": []
  },
  {
   "cell_type": "code",
   "execution_count": null,
   "metadata": {
    "collapsed": true
   },
   "outputs": [],
   "source": []
  }
 ],
 "metadata": {
  "kernelspec": {
   "display_name": "Python 2",
   "language": "python",
   "name": "python2"
  },
  "language_info": {
   "codemirror_mode": {
    "name": "ipython",
    "version": 2
   },
   "file_extension": ".py",
   "mimetype": "text/x-python",
   "name": "python",
   "nbconvert_exporter": "python",
   "pygments_lexer": "ipython2",
   "version": "2.7.13"
  }
 },
 "nbformat": 4,
 "nbformat_minor": 2
}
