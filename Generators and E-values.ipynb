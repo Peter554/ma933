{
 "cells": [
  {
   "cell_type": "markdown",
   "metadata": {},
   "source": [
    "# Generators and Eigen-values"
   ]
  },
  {
   "cell_type": "markdown",
   "metadata": {},
   "source": [
    "Consider the continuous-time Markov chain $(X_t : t ≥ 0)$ with generator $G=\\left( \\begin{array}{ccc}-2&1&1\\\\1 &-4&3\\\\0&1&-1\\\\ \\end{array}\\right)$."
   ]
  },
  {
   "cell_type": "markdown",
   "metadata": {},
   "source": [
    "$\\langle\\pi_t|=\\langle\\pi_0|P_t$ with $P_t=\\exp(tG)$"
   ]
  },
  {
   "cell_type": "code",
   "execution_count": null,
   "metadata": {
    "collapsed": true
   },
   "outputs": [],
   "source": [
    "import numpy as np\n",
    "import matplotlib.pyplot as plt\n",
    "\n",
    "# Make plots appear inline\n",
    "%matplotlib inline \n",
    "\n",
    "plt.rcParams['figure.figsize'] = (12, 12) # set default size of plots\n",
    "plt.rcParams.update({'font.size': 18}) # set default font size"
   ]
  },
  {
   "cell_type": "markdown",
   "metadata": {},
   "source": [
    "Define G"
   ]
  },
  {
   "cell_type": "code",
   "execution_count": null,
   "metadata": {},
   "outputs": [],
   "source": [
    "G=np.array([[-2,1,1],[1,-4,3],[0,1,-1]]) #define G\n",
    "print(G)"
   ]
  },
  {
   "cell_type": "code",
   "execution_count": null,
   "metadata": {
    "collapsed": true
   },
   "outputs": [],
   "source": [
    "def plot_circle(center,radius): # Function to plot a circle\n",
    "    x=np.linspace(-1,1,500)\n",
    "    x*=radius\n",
    "    x+=center\n",
    "    y=np.sqrt(radius**2-(x-center)**2)\n",
    "    plt.plot(x,y,'r-',lw=3)\n",
    "    plt.plot(x,-1*y,'r-',lw=3)"
   ]
  },
  {
   "cell_type": "markdown",
   "metadata": {},
   "source": [
    "Find disks and eigen-values"
   ]
  },
  {
   "cell_type": "code",
   "execution_count": null,
   "metadata": {
    "collapsed": true
   },
   "outputs": [],
   "source": [
    "centers=[] # find disks and also eigenstuff\n",
    "radii=[]\n",
    "\n",
    "N=3\n",
    "for i in range(N):\n",
    "    centers.append(G[i,i])\n",
    "    temp=0.0\n",
    "    for j in range(N):\n",
    "        if j!=i:\n",
    "            temp+=G[i,j]\n",
    "    radii.append(temp)\n",
    "\n",
    "evals,evecs=np.linalg.eig(G)"
   ]
  },
  {
   "cell_type": "markdown",
   "metadata": {},
   "source": [
    "Plot it!"
   ]
  },
  {
   "cell_type": "code",
   "execution_count": null,
   "metadata": {},
   "outputs": [],
   "source": [
    "for i in range(N):\n",
    "    plot_circle(centers[i],radii[i]) # Plot disk i\n",
    "    plt.plot(np.real(evals[i]),np.imag(evals[i]),'kx',mew=3,ms=10) # Plot evalue i\n",
    "# lim=1.1\n",
    "# plt.xlim(-lim,lim)\n",
    "# plt.ylim(-lim,lim)\n",
    "plt.grid()"
   ]
  },
  {
   "cell_type": "markdown",
   "metadata": {},
   "source": [
    "The disk theorem tells us that the eigen-values of $G$ all have real part $<0$. The stationary distribution corresponds to the eigen-value $\\lambda=0$. $P_t$ and $G$ share eigen-vectors. Eigen-values are related as:\n",
    "\n",
    "$\\langle u| G = \\lambda \\langle u|$ $\\to$ $\\langle u| P_t = e^{\\lambda t}\\langle u| $\n",
    "\n",
    "So $\\langle u| P_t = \\langle u| $ $\\to$ $\\lambda=0$.\n",
    "\n"
   ]
  },
  {
   "cell_type": "code",
   "execution_count": null,
   "metadata": {},
   "outputs": [],
   "source": [
    "# Take matrix expontential\n",
    "\n",
    "from scipy import linalg as la # import package\n",
    "\n",
    "t=0\n",
    "P_t=la.expm(t*G)\n",
    "\n",
    "print(P_t)"
   ]
  },
  {
   "cell_type": "markdown",
   "metadata": {},
   "source": [
    "Now examine $P_t$ as a function of time $t$"
   ]
  },
  {
   "cell_type": "code",
   "execution_count": null,
   "metadata": {},
   "outputs": [],
   "source": [
    "# Get P_t as function of time\n",
    "\n",
    "dt=0.1 # time step\n",
    "\n",
    "t=np.arange(0,10,dt) #times\n",
    "n_steps=np.shape(t)[0]\n",
    "\n",
    "\n",
    "P_t=np.zeros((n_steps,3,3)) #initialize\n",
    "for i in range(n_steps): # do it!\n",
    "    time=t[i]\n",
    "    P_t[i,:,:]=la.expm(time*G)\n",
    "    \n",
    "first_row=P_t[:,0,:]\n",
    "print(np.shape(first_row))"
   ]
  },
  {
   "cell_type": "code",
   "execution_count": null,
   "metadata": {
    "scrolled": false
   },
   "outputs": [],
   "source": [
    "# Plot!\n",
    "\n",
    "plt.plot(t,first_row[:,0],'b',lw=3,label='P[0,0]')\n",
    "plt.plot(t,first_row[:,1],'r',lw=3,label='P[0,1]')\n",
    "plt.plot(t,first_row[:,2],'m',lw=3, label='P[0,2]')\n",
    "plt.grid()\n",
    "plt.title(r'Plotting first row of $P_t$')\n",
    "plt.xlabel(r'time, t')\n",
    "plt.legend(loc='upper right')"
   ]
  },
  {
   "cell_type": "code",
   "execution_count": null,
   "metadata": {
    "collapsed": true
   },
   "outputs": [],
   "source": []
  }
 ],
 "metadata": {
  "kernelspec": {
   "display_name": "Python 2",
   "language": "python",
   "name": "python2"
  },
  "language_info": {
   "codemirror_mode": {
    "name": "ipython",
    "version": 2
   },
   "file_extension": ".py",
   "mimetype": "text/x-python",
   "name": "python",
   "nbconvert_exporter": "python",
   "pygments_lexer": "ipython2",
   "version": "2.7.13"
  }
 },
 "nbformat": 4,
 "nbformat_minor": 2
}
