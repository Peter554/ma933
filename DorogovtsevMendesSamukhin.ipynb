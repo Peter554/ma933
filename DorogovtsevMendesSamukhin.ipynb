{
 "cells": [
  {
   "cell_type": "markdown",
   "metadata": {},
   "source": [
    "In this notebook we discuss the question: \n",
    "\n",
    "<img src=\"https://i.imgur.com/XWAY4W2.png\" width=\"700px\"/>\n"
   ]
  },
  {
   "cell_type": "markdown",
   "metadata": {},
   "source": [
    "We must import some **packages**. We use [**networkx**](https://networkx.github.io/documentation/stable/index.html) for graphs in Python. If you don't have this package try e.g.\n",
    "\n",
    "```\n",
    "pip install networkx\n",
    "```\n",
    "\n",
    "or if using Python 3 \n",
    "\n",
    "```\n",
    "pip3 install networkx\n",
    "```\n",
    "\n",
    "\n",
    "\n",
    "or (if using conda)\n",
    "\n",
    "```\n",
    "conda install networkx\n",
    "```\n",
    "\n",
    "We also use the package ```past```. To get this run e.g.\n",
    "\n",
    "```\n",
    "pip install future\n",
    "```\n",
    "\n",
    "or\n",
    "\n",
    "```\n",
    "pip3 install future\n",
    "```\n",
    "\n",
    "I have also written a little module (also on the git) called **```graphUtils.py```** which you will need. This does the hard computing for you. For example, there is a function in the module that builds a Dorogovtsev-Mendes-Samukhin graph for you (```dms_graph_basic```) which is based on [this](https://networkx.github.io/documentation/stable/_modules/networkx/generators/random_graphs.html#barabasi_albert_graph). Put the file ```graphUtils.py``` in the same directory as this notebook.\n",
    "\n",
    "The functions in this module are **documented**. If confused what a function does put your cursor inside the brackets (where the arguments go) and press **```shift+tab+tab```** to see the **doc-string**. E.g. as in this picture (note '```gu```' is an abbreviation for ```graphUtils```, like ```np``` for ```numpy```):\n",
    "\n",
    "<img src=\"https://i.imgur.com/lFXPXoO.png\" width=\"800px\"/>"
   ]
  },
  {
   "cell_type": "code",
   "execution_count": null,
   "metadata": {
    "collapsed": true
   },
   "outputs": [],
   "source": [
    "import numpy as np # numpy\n",
    "\n",
    "import matplotlib.pyplot as plt # plotting\n",
    "%matplotlib inline\n",
    "plt.rcParams['figure.figsize'] = (12, 12) # set default size of plots\n",
    "plt.rcParams.update({'font.size': 18}) # set default font size\n",
    "plt.rcParams['image.cmap']='hot' # set color map\n",
    "\n",
    "import networkx as nx # networkx\n",
    "\n",
    "import random # random numbers\n",
    "\n",
    "import graphUtils as gu # the utilities module on git. Abbreviate as gu\n",
    "\n",
    "# ignore me. If you get an error just comment out!\n",
    "%load_ext autoreload \n",
    "%autoreload 2\n",
    "\n",
    "import past\n",
    "from past.builtins import range"
   ]
  },
  {
   "cell_type": "markdown",
   "metadata": {},
   "source": [
    "**Part a)** Here we study the degree distribution. Lets calculate for 1 realization.."
   ]
  },
  {
   "cell_type": "code",
   "execution_count": null,
   "metadata": {
    "collapsed": true
   },
   "outputs": [],
   "source": [
    "###### Parameters ########\n",
    "\n",
    "k0=0\n",
    "\n",
    "N=1000\n",
    "\n",
    "#########################\n",
    "\n",
    "G=gu.dms_graph_basic(N,k0) # build graph\n",
    "\n",
    "d=gu.deg_dist(G) # get degree dist"
   ]
  },
  {
   "cell_type": "markdown",
   "metadata": {},
   "source": [
    "And plot! Note the power of $$-3-\\frac{k_0}{m}$$ "
   ]
  },
  {
   "cell_type": "code",
   "execution_count": null,
   "metadata": {},
   "outputs": [],
   "source": [
    "x=np.asarray(range(N),dtype=float)\n",
    "plt.plot(x,d,'xr',mew=3,ms=8,label='Empirical')\n",
    "\n",
    "pwr=-3.0-float(k0)/5.0 # add the line\n",
    "plt.plot(x,100*x**pwr,'k-',lw=3,label='$=100k^{-3-k_0/m}$')\n",
    "\n",
    "plt.xscale('log')\n",
    "plt.yscale('log')\n",
    "\n",
    "plt.xlabel('$k$')\n",
    "plt.ylabel('$p(k)$')\n",
    "plt.legend()\n",
    "plt.title('Degree distribution, 1 realization, $k_0=${}'.format(k0))\n",
    "\n",
    "plt.ylim(1.0/(2*N),0.5)\n",
    "plt.xlim(4,200)"
   ]
  },
  {
   "cell_type": "markdown",
   "metadata": {},
   "source": [
    "**Now do 20 realizations: (TO DO)** "
   ]
  },
  {
   "cell_type": "markdown",
   "metadata": {},
   "source": [
    "**Part b)** Now we compute $k_{nn}(k)$. What is the expected degree of my neighbour, given I have degree $k$?\n",
    "\n",
    "Here we are using the function ```knn``` from ```graphUtils```. We must **be careful how we interpret 0's** in the output. The 0's should be interpreted as 'undefined' and we should ignore them when averaging over reps. "
   ]
  },
  {
   "cell_type": "code",
   "execution_count": null,
   "metadata": {
    "collapsed": true
   },
   "outputs": [],
   "source": [
    "################\n",
    "\n",
    "k0=0\n",
    "\n",
    "N=1000\n",
    "\n",
    "kmax=160 # the max degree we're interested in (high degrees are rare)\n",
    "\n",
    "################\n",
    "\n",
    "G=gu.dms_graph_basic(N,k0) # build a graph\n",
    "knn_final=gu.knn(G,kmax) # get knn(k)\n",
    "    \n"
   ]
  },
  {
   "cell_type": "markdown",
   "metadata": {},
   "source": [
    "Now plot!"
   ]
  },
  {
   "cell_type": "code",
   "execution_count": null,
   "metadata": {},
   "outputs": [],
   "source": [
    "plt.plot(range(kmax),knn_final,'rx',ms=8,mew=3)\n",
    "\n",
    "plt.xlim(0,kmax)\n",
    "# plt.ylim(10,25)\n",
    "\n",
    "plt.xlabel('$k$')\n",
    "plt.ylabel('$k_{nn}(k)$')\n",
    "plt.title('$k_0=${}, just 1 realization. \\nNote that zeros should be treated as undefined \\nso ignore when averaging over reps!! '.format(k0))"
   ]
  },
  {
   "cell_type": "markdown",
   "metadata": {},
   "source": [
    "**Now do 20 realizations: (TO DO)** "
   ]
  },
  {
   "cell_type": "markdown",
   "metadata": {},
   "source": [
    "**Part c)** Now look at Wigner semi-circle law <img src=\"https://i.imgur.com/qH0V3FZ.png\" width=\"600px\"/>"
   ]
  },
  {
   "cell_type": "code",
   "execution_count": null,
   "metadata": {},
   "outputs": [],
   "source": [
    "from scipy import stats # you need this package\n",
    "\n",
    "################\n",
    "\n",
    "k0=0\n",
    "\n",
    "N=1000\n",
    "\n",
    "################\n",
    "\n",
    "G=gu.dms_graph_basic(N,k0) # build graph\n",
    "\n",
    "A=nx.to_numpy_matrix(G) # get adj matrix\n",
    "evals,_=np.linalg.eig(A/np.sqrt(N)) # evals of A/sqrt(N)\n",
    "empiricalSpecDensity_func=stats.gaussian_kde(evals,bw_method=0.05) # returns a function\n",
    "\n",
    "x=np.linspace(evals.min(),evals.max(),1000) # plot empirical specral density\n",
    "plt.plot(x,empiricalSpecDensity_func(x),'b-',lw=3)\n",
    "\n",
    "# the Wigner circle\n",
    "# to do !!!\n",
    "\n",
    "plt.xlim(0.3,-0.3)\n",
    "plt.ylabel(r'$\\rho(\\lambda)$')\n",
    "plt.xlabel(r'$\\lambda$')"
   ]
  },
  {
   "cell_type": "code",
   "execution_count": null,
   "metadata": {
    "collapsed": true
   },
   "outputs": [],
   "source": []
  }
 ],
 "metadata": {
  "kernelspec": {
   "display_name": "Python 2",
   "language": "python",
   "name": "python2"
  },
  "language_info": {
   "codemirror_mode": {
    "name": "ipython",
    "version": 2
   },
   "file_extension": ".py",
   "mimetype": "text/x-python",
   "name": "python",
   "nbconvert_exporter": "python",
   "pygments_lexer": "ipython2",
   "version": "2.7.13"
  }
 },
 "nbformat": 4,
 "nbformat_minor": 2
}
