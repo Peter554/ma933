{
 "cells": [
  {
   "cell_type": "markdown",
   "metadata": {},
   "source": [
    "Import some packages. We use [networkx](https://networkx.github.io/documentation/stable/index.html) for graphs in Python "
   ]
  },
  {
   "cell_type": "code",
   "execution_count": null,
   "metadata": {
    "collapsed": true
   },
   "outputs": [],
   "source": [
    "import numpy as np\n",
    "import networkx as nx\n",
    "import random \n",
    "import matplotlib.pyplot as plt\n",
    "%matplotlib inline\n",
    "\n",
    "plt.rcParams['figure.figsize'] = (12, 12) # set default size of plots\n",
    "plt.rcParams.update({'font.size': 18}) # set default font size\n",
    "plt.rcParams['image.cmap']='hot' # set color map"
   ]
  },
  {
   "cell_type": "markdown",
   "metadata": {},
   "source": [
    "Now define some functions that build our graph. These are adapted from [here](https://networkx.github.io/documentation/stable/_modules/networkx/generators/random_graphs.html#barabasi_albert_graph). Don't worry if you can't follow the details."
   ]
  },
  {
   "cell_type": "code",
   "execution_count": null,
   "metadata": {
    "collapsed": true
   },
   "outputs": [],
   "source": [
    "def _random_subset(seq,m):\n",
    "    \"\"\" Return m unique elements from seq.\n",
    "\n",
    "    This differs from random.sample which can return repeated\n",
    "    elements if seq holds repeated elements.\n",
    "    \"\"\"\n",
    "    targets=set()\n",
    "    while len(targets)<m:\n",
    "        x=random.choice(seq)\n",
    "        targets.add(x)\n",
    "    return targets"
   ]
  },
  {
   "cell_type": "code",
   "execution_count": null,
   "metadata": {
    "collapsed": true
   },
   "outputs": [],
   "source": [
    "def dms_graph_basic(N,m,k0,seed=None):\n",
    "    '''\n",
    "    Build DorogovtsevMendesSamukhin graph. \n",
    "    Graph is 'basic' as we use the case m=m0 (as required for problem sheet m=m0=5).\n",
    "    \n",
    "    Usage: G=dms_graph_basic(N,m,k0,seed=None)\n",
    "    \n",
    "    Input:\n",
    "    N - Number of nodes\n",
    "    m - see problem sheet (=m0 also)\n",
    "    k0 - damping factor\n",
    "    \n",
    "    Output:\n",
    "    G - A Networkx graph \n",
    "    '''\n",
    "\n",
    "    if seed is not None:\n",
    "        random.seed(seed)\n",
    "\n",
    "    G=nx.complete_graph(m)\n",
    "    \n",
    "    targets=range(m)\n",
    "    \n",
    "    repeated_nodes=range(m)*(m-1+k0)\n",
    "\n",
    "    source=m\n",
    "    \n",
    "    while source<N:\n",
    "        G.add_edges_from(zip([source]*m,targets))\n",
    "        repeated_nodes.extend(targets)\n",
    "        repeated_nodes.extend([source]*(m+k0))\n",
    "        targets = _random_subset(repeated_nodes,m)\n",
    "        source += 1\n",
    "    return G"
   ]
  },
  {
   "cell_type": "markdown",
   "metadata": {},
   "source": [
    "**Part a)** Here we study the degree distribution. Lets calculate for 1 realization.."
   ]
  },
  {
   "cell_type": "code",
   "execution_count": null,
   "metadata": {
    "collapsed": true
   },
   "outputs": [],
   "source": [
    "###### Parameters ########\n",
    "\n",
    "k0=0\n",
    "\n",
    "N=1000\n",
    "\n",
    "#########################\n",
    "\n",
    "G=dms_graph_basic(N,5,k0) # build graph\n",
    "\n",
    "degs=nx.degree_histogram(G) # get degree histogram (list)\n",
    "\n",
    "if len(degs)<N: # standadize length (for when we run many realizations)\n",
    "    degs=degs+[0]*(N-len(degs))\n",
    "degs=np.asarray(degs,dtype=float) # make numpy array\n",
    "\n",
    "degs=degs/np.sum(degs) # normalize"
   ]
  },
  {
   "cell_type": "markdown",
   "metadata": {},
   "source": [
    "And plot! Note I use a power of $$-3-\\frac{k_0}{m}$$ I think it depends on how you interpret things.."
   ]
  },
  {
   "cell_type": "code",
   "execution_count": null,
   "metadata": {},
   "outputs": [],
   "source": [
    "x=np.asarray(range(N),dtype=float)\n",
    "\n",
    "plt.plot(x,degs,'xr',mew=3,ms=8,label='Empirical')\n",
    "\n",
    "pwr=-3.0-float(k0)/5.0\n",
    "plt.plot(x,100*x**pwr,'k-',lw=3,label='$=100k^{-3-k_0/m}$')\n",
    "\n",
    "plt.xscale('log')\n",
    "plt.yscale('log')\n",
    "\n",
    "plt.xlabel('$k$')\n",
    "plt.ylabel('$p(k)$')\n",
    "plt.legend()\n",
    "plt.title('Degree distribution, 1 realization, $k_0=${}'.format(k0))\n",
    "\n",
    "plt.ylim(1.0/(2*N),0.5)\n",
    "plt.xlim(4,200)"
   ]
  },
  {
   "cell_type": "markdown",
   "metadata": {},
   "source": [
    "**Now average over 20 realizations!** (to do)"
   ]
  },
  {
   "cell_type": "markdown",
   "metadata": {},
   "source": [
    "**Part b)** Now we compute $k_{nn}(k)$. What is the expected degree of my neighbour, given I have degree $k$? Here we calculate for 1 realization.."
   ]
  },
  {
   "cell_type": "code",
   "execution_count": null,
   "metadata": {
    "collapsed": true
   },
   "outputs": [],
   "source": [
    "################\n",
    "\n",
    "k0=0\n",
    "\n",
    "N=1000\n",
    "\n",
    "kmax=200 # the max degree we're interested in (high degrees are rare)\n",
    "\n",
    "################\n",
    "\n",
    "Knn=np.zeros(kmax) \n",
    "\n",
    "G=dms_graph_basic(N,5,k0) # build graph\n",
    "\n",
    "A=nx.to_numpy_matrix(G) # get adj matix as numpy array\n",
    "\n",
    "d=nx.degree(G).values()\n",
    "d=np.asarray(d,dtype=float) # get degrees, convert to numpy, reshape.  \n",
    "d=np.reshape(d,(1,N)) # So d[i] is degree of node i\n",
    "\n",
    "for k in range(kmax): # loop on k\n",
    "    delta=np.equal(k,d).astype(int)\n",
    "    delta=np.reshape(delta,(1,N)) # delta vector. delta[i]=1 if d[i]=k.\n",
    "\n",
    "    # numerator (uses broadcasting. Google me!)\n",
    "    t1=np.multiply(np.multiply(np.multiply(A,delta.T),d),1/d.T) \n",
    "    t1=np.sum(np.sum(t1))\n",
    "\n",
    "    t2=np.sum(delta) # denominator\n",
    "\n",
    "    if t2!=0: # fill in Knn[k]\n",
    "        Knn[k]=t1/t2\n"
   ]
  },
  {
   "cell_type": "markdown",
   "metadata": {},
   "source": [
    "Now plot!"
   ]
  },
  {
   "cell_type": "code",
   "execution_count": null,
   "metadata": {},
   "outputs": [],
   "source": [
    "plt.plot(range(kmax),Knn,'rx',ms=8,mew=3)\n",
    "\n",
    "plt.xlim(0,160)\n",
    "plt.ylim(15,25)\n",
    "\n",
    "plt.xlabel('$k$')\n",
    "plt.ylabel('$k_{nn}(k)$')\n",
    "plt.title('$k_0=${}, \"averaged\" over 1 realization.'.format(k0))"
   ]
  },
  {
   "cell_type": "markdown",
   "metadata": {},
   "source": [
    "**Now average over 20 realizations** (to do)"
   ]
  },
  {
   "cell_type": "markdown",
   "metadata": {},
   "source": [
    "**Part c)** Now look at Wigner semi-circle law <img src=\"https://i.imgur.com/qH0V3FZ.png\" width=\"600px\"\\>"
   ]
  },
  {
   "cell_type": "code",
   "execution_count": null,
   "metadata": {},
   "outputs": [],
   "source": [
    "from scipy import stats # you need this package\n",
    "\n",
    "################\n",
    "\n",
    "k0=0\n",
    "\n",
    "N=1000\n",
    "\n",
    "################\n",
    "\n",
    "G=dms_graph_basic(N,5,k0)\n",
    "\n",
    "A=nx.to_numpy_matrix(G)\n",
    "evals,_=np.linalg.eig(A/np.sqrt(N))\n",
    "empiricalPDF_func=stats.gaussian_kde(evals,bw_method=0.05)      # returns a function\n",
    "\n",
    "x=np.linspace(evals.min(),evals.max(),1000) # empirical specral density\n",
    "plt.plot(x,empiricalPDF_func(x),'b-',lw=3)\n",
    "\n",
    "# PLOT THE WIGNER CIRCLE!!\n",
    "\n",
    "plt.xlim(0.3,-0.3)\n",
    "plt.ylabel(r'$\\rho(\\lambda)$')\n",
    "plt.xlabel(r'$\\lambda$')"
   ]
  },
  {
   "cell_type": "markdown",
   "metadata": {
    "collapsed": true
   },
   "source": [
    "**Add the Wigner circle to the plot** (to do)"
   ]
  },
  {
   "cell_type": "code",
   "execution_count": null,
   "metadata": {
    "collapsed": true
   },
   "outputs": [],
   "source": []
  }
 ],
 "metadata": {
  "kernelspec": {
   "display_name": "Python 2",
   "language": "python",
   "name": "python2"
  },
  "language_info": {
   "codemirror_mode": {
    "name": "ipython",
    "version": 2
   },
   "file_extension": ".py",
   "mimetype": "text/x-python",
   "name": "python",
   "nbconvert_exporter": "python",
   "pygments_lexer": "ipython2",
   "version": "2.7.13"
  }
 },
 "nbformat": 4,
 "nbformat_minor": 2
}
