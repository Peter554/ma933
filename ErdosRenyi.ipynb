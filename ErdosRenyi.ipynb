{
 "cells": [
  {
   "cell_type": "markdown",
   "metadata": {},
   "source": [
    "The question:\n",
    "    \n",
    "<img src=\"https://i.imgur.com/4Ebjoll.png\" width=\"700px\"/>"
   ]
  },
  {
   "cell_type": "markdown",
   "metadata": {},
   "source": [
    "See the notebook on the **Dorogovtsev-Mendes-Samukhin** first. This details graphs and more info about packages, install, modules.. You need ```graphUtils.py``` in the same directory as this notebook!"
   ]
  },
  {
   "cell_type": "code",
   "execution_count": null,
   "metadata": {
    "collapsed": true
   },
   "outputs": [],
   "source": [
    "import numpy as np # numpy\n",
    "\n",
    "import matplotlib.pyplot as plt # plotting\n",
    "%matplotlib inline\n",
    "plt.rcParams['figure.figsize'] = (12, 12) # set default size of plots\n",
    "plt.rcParams.update({'font.size': 18}) # set default font size\n",
    "plt.rcParams['image.cmap']='hot' # set color map\n",
    "\n",
    "import networkx as nx # networkx\n",
    "\n",
    "import random # random numbers\n",
    "\n",
    "import graphUtils as gu # the utilities module on git. Abbreviate as gu"
   ]
  },
  {
   "cell_type": "markdown",
   "metadata": {},
   "source": [
    "Somewhere to get started:"
   ]
  },
  {
   "cell_type": "code",
   "execution_count": null,
   "metadata": {
    "collapsed": true
   },
   "outputs": [],
   "source": [
    "N=100\n",
    "z=3.0\n",
    "\n",
    "p=z/N\n",
    "\n",
    "G=nx.erdos_renyi_graph(N,p) # build a graph\n",
    "\n",
    "sizes=gu.connected_comps_sizes(G) # reverse list of size of connected components (Part A)\n",
    "\n",
    "c=nx.average_clustering(G) # average clustering coeff (Part B)\n",
    "\n",
    "# for part C, Wigner circle, see notebook on Dorogovtsev-Mendes-Samukhin model\n",
    "\n",
    "# in general we need to loop over z and also over 20 reps."
   ]
  },
  {
   "cell_type": "code",
   "execution_count": null,
   "metadata": {
    "collapsed": true
   },
   "outputs": [],
   "source": []
  }
 ],
 "metadata": {
  "kernelspec": {
   "display_name": "Python 3",
   "language": "python",
   "name": "python3"
  },
  "language_info": {
   "codemirror_mode": {
    "name": "ipython",
    "version": 3
   },
   "file_extension": ".py",
   "mimetype": "text/x-python",
   "name": "python",
   "nbconvert_exporter": "python",
   "pygments_lexer": "ipython3",
   "version": "3.5.4"
  }
 },
 "nbformat": 4,
 "nbformat_minor": 2
}
