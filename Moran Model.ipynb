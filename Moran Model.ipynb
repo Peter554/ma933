{
 "cells": [
  {
   "cell_type": "markdown",
   "metadata": {},
   "source": [
    "Import some stuff"
   ]
  },
  {
   "cell_type": "code",
   "execution_count": null,
   "metadata": {
    "collapsed": true
   },
   "outputs": [],
   "source": [
    "import numpy as np\n",
    "import matplotlib.pyplot as plt\n",
    "%matplotlib inline\n",
    "\n",
    "plt.rcParams['figure.figsize'] = (12, 12) # set default size of plots\n",
    "plt.rcParams.update({'font.size': 18}) # set default font size\n",
    "plt.rcParams['image.cmap']='inferno' # set color map"
   ]
  },
  {
   "cell_type": "markdown",
   "metadata": {},
   "source": [
    "A function to see when we're done"
   ]
  },
  {
   "cell_type": "code",
   "execution_count": null,
   "metadata": {
    "collapsed": true
   },
   "outputs": [],
   "source": [
    "def am_done(v):\n",
    "    '''Return true if all elements of v the same. Else false.'''\n",
    "    u=np.unique(v) # unique  elements of v\n",
    "    if u.shape[0]>1:\n",
    "        return False\n",
    "    else:\n",
    "        return True"
   ]
  },
  {
   "cell_type": "markdown",
   "metadata": {},
   "source": [
    "The main **simulation**. Run a process with rate $L$. Waiting times are distributed exponentially with mean $\\beta = 1/L$. When an event occurs pick an individual uniform at random to reproduce and pick an individual uniform at random to be killed."
   ]
  },
  {
   "cell_type": "code",
   "execution_count": null,
   "metadata": {},
   "outputs": [],
   "source": [
    "### Parameter ###\n",
    "\n",
    "L=50\n",
    "\n",
    "#################\n",
    "\n",
    "X=np.zeros((1,L),dtype='int') # initialize (we will use np.append to append to this)\n",
    "X[0,:]=np.arange(L)\n",
    "\n",
    "time=0.0\n",
    "times_list=[] # list of times for sample path\n",
    "\n",
    "rate=L \n",
    "beta=1.0/rate # mean wait time\n",
    "\n",
    "while True: # loop until done \n",
    "    wait=np.random.exponential(beta) # wait time\n",
    "    times_list.append((time,time+wait))\n",
    "    time+=wait\n",
    "    \n",
    "    old=X[-1,:] # index -1 is useful. In this case it gives the last row\n",
    "    new=old.copy() # make a copy\n",
    "    \n",
    "    type_to_spread=np.random.choice(old) \n",
    "\n",
    "    idx=np.random.choice(np.arange(L))\n",
    "    new[idx]=type_to_spread # infect    \n",
    "    new=np.sort(new)  \n",
    "    \n",
    "    if(am_done(new)):\n",
    "        break    \n",
    "        \n",
    "    X=np.append(X,[new],axis=0)\n",
    "    \n",
    "X=np.append(X,[new],axis=0) # add this for completeness \n",
    "times_list.append((time,time+2*wait))"
   ]
  },
  {
   "cell_type": "markdown",
   "metadata": {},
   "source": [
    "Plot the X matrix"
   ]
  },
  {
   "cell_type": "code",
   "execution_count": null,
   "metadata": {},
   "outputs": [],
   "source": [
    "plt.pcolormesh(X) # Plot dynamics!\n",
    "plt.title('X Matrix')\n",
    "plt.xlabel('Individual')\n",
    "plt.ylabel('Timestep (non-uniform!)')"
   ]
  },
  {
   "cell_type": "markdown",
   "metadata": {},
   "source": [
    "Convert to the N matrix"
   ]
  },
  {
   "cell_type": "code",
   "execution_count": null,
   "metadata": {
    "collapsed": true
   },
   "outputs": [],
   "source": [
    "def X_to_N(X):\n",
    "    N=np.zeros_like(X)\n",
    "    length=np.shape(N)[0]\n",
    "    L=np.shape(N)[1]\n",
    "    for row in range(length):\n",
    "        row_list=list(X[row,:])\n",
    "        for i in range(L):\n",
    "            N[row,i]=row_list.count(i)   \n",
    "    return N"
   ]
  },
  {
   "cell_type": "code",
   "execution_count": null,
   "metadata": {
    "collapsed": true
   },
   "outputs": [],
   "source": [
    "N=X_to_N(X)"
   ]
  },
  {
   "cell_type": "markdown",
   "metadata": {},
   "source": [
    "Vizualise N matrix"
   ]
  },
  {
   "cell_type": "code",
   "execution_count": null,
   "metadata": {},
   "outputs": [],
   "source": [
    "plt.pcolormesh(N) # Plot dynamics!\n",
    "plt.title('N Matrix')\n",
    "plt.xlabel('Type')\n",
    "plt.ylabel('Timestep (non-uniform!)')"
   ]
  },
  {
   "cell_type": "code",
   "execution_count": null,
   "metadata": {
    "collapsed": true
   },
   "outputs": [],
   "source": [
    "# def plot_path_true(tlst,n,col): # this is too slow unfortunately \n",
    "#     length=len(tlst)\n",
    "#     for i in range(length):\n",
    "#         t=tlst[i]\n",
    "#         plt.plot([t[0],t[1]],[n[i],n[i]],c=col,lw=3)"
   ]
  },
  {
   "cell_type": "markdown",
   "metadata": {},
   "source": [
    "Make a list of just start times. Not technically the best way to plot but this is much quicker.."
   ]
  },
  {
   "cell_type": "code",
   "execution_count": null,
   "metadata": {
    "collapsed": true
   },
   "outputs": [],
   "source": [
    "start_times=[]\n",
    "for i in range(len(times_list)):\n",
    "    start_times.append(times_list[i][0])"
   ]
  },
  {
   "cell_type": "code",
   "execution_count": null,
   "metadata": {},
   "outputs": [],
   "source": [
    "import matplotlib\n",
    "import matplotlib.cm as cm\n",
    "\n",
    "norm = matplotlib.colors.Normalize(vmin=0, vmax=L-1) # we want the same colors as for our heatmaps above!\n",
    "mapper = cm.ScalarMappable(norm=norm, cmap=cm.inferno)\n",
    "\n",
    "for i in range(L):\n",
    "    plt.plot(start_times,N[:,i],c=mapper.to_rgba(i),lw=3)\n",
    "    \n",
    "plt.xlabel('Time, $t$')\n",
    "plt.ylabel('$N_t$')"
   ]
  },
  {
   "cell_type": "code",
   "execution_count": null,
   "metadata": {},
   "outputs": [],
   "source": []
  }
 ],
 "metadata": {
  "kernelspec": {
   "display_name": "Python 2",
   "language": "python",
   "name": "python2"
  },
  "language_info": {
   "codemirror_mode": {
    "name": "ipython",
    "version": 2
   },
   "file_extension": ".py",
   "mimetype": "text/x-python",
   "name": "python",
   "nbconvert_exporter": "python",
   "pygments_lexer": "ipython2",
   "version": "2.7.13"
  }
 },
 "nbformat": 4,
 "nbformat_minor": 2
}
