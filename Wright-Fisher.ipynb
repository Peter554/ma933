{
 "cells": [
  {
   "cell_type": "markdown",
   "metadata": {},
   "source": [
    "# Wright-Fisher Model"
   ]
  },
  {
   "cell_type": "markdown",
   "metadata": {},
   "source": [
    "This notebook simulates the Wright-Fisher model as described on the first example sheet. You should first aim to understand this before extending the code to answer the problems."
   ]
  },
  {
   "cell_type": "markdown",
   "metadata": {},
   "source": [
    "We will need the packages **Numpy** and **matplotlib** so we import these"
   ]
  },
  {
   "cell_type": "code",
   "execution_count": null,
   "metadata": {
    "collapsed": true
   },
   "outputs": [],
   "source": [
    "import numpy as np\n",
    "import matplotlib.pyplot as plt\n",
    "\n",
    "# Make plots appear inline\n",
    "%matplotlib inline \n",
    "\n",
    "plt.rcParams['figure.figsize'] = (12, 12) # set default size of plots\n",
    "plt.rcParams.update({'font.size': 18}) # set default font size\n",
    "plt.rcParams['image.cmap']='hot' # set color map"
   ]
  },
  {
   "cell_type": "markdown",
   "metadata": {},
   "source": [
    "We make use of the functions **np.sort()** to sort a vector and **np.random.choice()** to sample from a vector."
   ]
  },
  {
   "cell_type": "code",
   "execution_count": null,
   "metadata": {
    "collapsed": true
   },
   "outputs": [],
   "source": [
    "T=500 # max time \n",
    "L=100 # Number individuals\n",
    "\n",
    "X=np.zeros((T+1,L)) #Initialize\n",
    "X[0,:]=np.arange(L) # at t=0 individual i has type i\n",
    "\n",
    "for t in range(1,T+1): # Time steps. list of integers from 1 to T.\n",
    "    \n",
    "    old_states=X[t-1,:]\n",
    "    \n",
    "    new_states=np.zeros(L) # Build new states\n",
    "    for i in range(L): \n",
    "        new_states[i]=np.random.choice(old_states)\n",
    "    new_states=np.sort(new_states)\n",
    "    \n",
    "    X[t,:]=new_states"
   ]
  },
  {
   "cell_type": "code",
   "execution_count": null,
   "metadata": {
    "collapsed": true
   },
   "outputs": [],
   "source": [
    "plt.pcolor(X) # Plot dynamics!\n",
    "plt.ylabel(r'Time step')\n",
    "plt.xlabel(r'Individual')\n",
    "plt.title(r'Wright-Fisher Dynamics')\n",
    "plt.savefig('./Wright-Fisher.pdf')"
   ]
  },
  {
   "cell_type": "markdown",
   "metadata": {},
   "source": [
    "Now lets check to see when we're done:"
   ]
  },
  {
   "cell_type": "code",
   "execution_count": null,
   "metadata": {
    "collapsed": true
   },
   "outputs": [],
   "source": [
    "def am_done(v):\n",
    "    '''Return true if all elements of v the same. Else false.'''\n",
    "    u=np.unique(v) # unique  elements of v\n",
    "    if u.shape[0]>1:\n",
    "        return False\n",
    "    else:\n",
    "        return True"
   ]
  },
  {
   "cell_type": "code",
   "execution_count": null,
   "metadata": {
    "collapsed": true
   },
   "outputs": [],
   "source": [
    "T=500 # max time \n",
    "L=100 # Number individuals\n",
    "\n",
    "X=np.zeros((T+1,L)) #Initialize\n",
    "X[0,:]=np.arange(L) # at t=0 individual i has type i\n",
    "\n",
    "done=False\n",
    "finish_t=None\n",
    "\n",
    "for t in range(1,T+1): # Time steps. list of integers from 1 to T.\n",
    "    \n",
    "    old_states=X[t-1,:]\n",
    "    \n",
    "    new_states=np.zeros(L)\n",
    "    for i in range(L):\n",
    "        new_states[i]=np.random.choice(old_states)\n",
    "    new_states=np.sort(new_states)\n",
    "    \n",
    "    X[t,:]=new_states\n",
    "    \n",
    "    if am_done(new_states):\n",
    "        finish_t=t\n",
    "        break"
   ]
  },
  {
   "cell_type": "code",
   "execution_count": null,
   "metadata": {
    "collapsed": true
   },
   "outputs": [],
   "source": [
    "print('Finished at time step {}'.format(finish_t))\n",
    "X=X[0:(finish_t+1),:]\n",
    "\n",
    "plt.pcolor(X) # Plot dynamics!\n",
    "plt.ylabel(r'Time step')\n",
    "plt.xlabel(r'Individual')\n",
    "plt.title(r'Wright-Fisher Dynamics')\n",
    "plt.savefig('./Wright-Fisher.pdf')"
   ]
  },
  {
   "cell_type": "code",
   "execution_count": null,
   "metadata": {
    "collapsed": true
   },
   "outputs": [],
   "source": []
  },
  {
   "cell_type": "code",
   "execution_count": null,
   "metadata": {
    "collapsed": true
   },
   "outputs": [],
   "source": []
  }
 ],
 "metadata": {
  "kernelspec": {
   "display_name": "Python 2",
   "language": "python",
   "name": "python2"
  },
  "language_info": {
   "codemirror_mode": {
    "name": "ipython",
    "version": 2
   },
   "file_extension": ".py",
   "mimetype": "text/x-python",
   "name": "python",
   "nbconvert_exporter": "python",
   "pygments_lexer": "ipython2",
   "version": "2.7.13"
  }
 },
 "nbformat": 4,
 "nbformat_minor": 2
}
