{
 "cells": [
  {
   "cell_type": "markdown",
   "metadata": {},
   "source": [
    "For working with **graphs** we use the package **networkX**.\n",
    "\n",
    "The docs are found [here](https://networkx.github.io/documentation/stable/index.html)\n",
    "\n",
    "-------------------\n",
    "\n",
    "If you have package problems try e.g \n",
    "\n",
    "pip install networkx\n",
    "\n",
    "or (if using conda)\n",
    "\n",
    "conda install networkx"
   ]
  },
  {
   "cell_type": "code",
   "execution_count": null,
   "metadata": {
    "collapsed": true
   },
   "outputs": [],
   "source": [
    "import numpy as np\n",
    "import networkx as nx\n",
    "import matplotlib.pyplot as plt\n",
    "%matplotlib inline"
   ]
  },
  {
   "cell_type": "code",
   "execution_count": null,
   "metadata": {},
   "outputs": [],
   "source": [
    "#Works only for undirected i.e. symmetric A (I think)\n",
    "A=np.array([[0,1,1,0,0],[1,0,1,0,0],[1,1,0,0,0],[0,0,0,0,1],[0,0,0,1,0]])\n",
    "print('Numpy array\\n\\n {}'.format(A))\n",
    "\n",
    "print('\\nBuild graph!')\n",
    "G=nx.from_numpy_matrix(A) # make graph\n",
    "\n",
    "print('\\nAdj \"matrix\"\\n {}'.format(G.adj))\n",
    "print('\\nNodes {}'.format(G.nodes()))\n",
    "print('\\nEdges {}'.format(G.edges()))\n",
    "print('\\nDegree {}'.format(G.degree()))\n",
    "\n",
    "nx.draw(G, with_labels=True, font_weight='bold')"
   ]
  },
  {
   "cell_type": "code",
   "execution_count": null,
   "metadata": {
    "collapsed": true
   },
   "outputs": [],
   "source": []
  }
 ],
 "metadata": {
  "kernelspec": {
   "display_name": "Python 2",
   "language": "python",
   "name": "python2"
  },
  "language_info": {
   "codemirror_mode": {
    "name": "ipython",
    "version": 2
   },
   "file_extension": ".py",
   "mimetype": "text/x-python",
   "name": "python",
   "nbconvert_exporter": "python",
   "pygments_lexer": "ipython2",
   "version": "2.7.13"
  }
 },
 "nbformat": 4,
 "nbformat_minor": 2
}
